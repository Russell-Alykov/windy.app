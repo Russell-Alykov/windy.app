{
 "cells": [
  {
   "cell_type": "markdown",
   "id": "c25c040d",
   "metadata": {},
   "source": [
    "<a href=\"https://ibb.co/gTC2hm6\"><img src=\"https://i.ibb.co/r6JjNFv/logo-with-words-4x.png\" alt=\"logo-with-words-4x\" border=\"0\"></a>\n",
    "<center>Test task by Ruslan Alykov</center>"
   ]
  },
  {
   "cell_type": "code",
   "execution_count": 1,
   "id": "a0bdd1d1",
   "metadata": {},
   "outputs": [],
   "source": [
    "import pandas as pd\n",
    "import seaborn as sns\n",
    "\n",
    "import matplotlib.pyplot\n",
    "%matplotlib inline"
   ]
  },
  {
   "cell_type": "code",
   "execution_count": 2,
   "id": "832e8a41",
   "metadata": {},
   "outputs": [],
   "source": [
    "users = pd.read_csv('users_asa_feb_flitered.csv')"
   ]
  },
  {
   "cell_type": "code",
   "execution_count": 3,
   "id": "731f20ef",
   "metadata": {},
   "outputs": [],
   "source": [
    "costs = pd.read_csv('costs_asa_campaign_filtered.csv')"
   ]
  },
  {
   "cell_type": "code",
   "execution_count": 4,
   "id": "6783c0df",
   "metadata": {},
   "outputs": [],
   "source": [
    "sns.set(\n",
    "    font_scale=2,\n",
    "    style='whitegrid',\n",
    "    rc={'figure.figsize':(25,10)})"
   ]
  },
  {
   "cell_type": "markdown",
   "id": "177fc4dc",
   "metadata": {},
   "source": [
    "## Разведывательный анализ"
   ]
  },
  {
   "cell_type": "code",
   "execution_count": 5,
   "id": "91f895fe",
   "metadata": {},
   "outputs": [
    {
     "data": {
      "text/html": [
       "<div>\n",
       "<style scoped>\n",
       "    .dataframe tbody tr th:only-of-type {\n",
       "        vertical-align: middle;\n",
       "    }\n",
       "\n",
       "    .dataframe tbody tr th {\n",
       "        vertical-align: top;\n",
       "    }\n",
       "\n",
       "    .dataframe thead th {\n",
       "        text-align: right;\n",
       "    }\n",
       "</style>\n",
       "<table border=\"1\" class=\"dataframe\">\n",
       "  <thead>\n",
       "    <tr style=\"text-align: right;\">\n",
       "      <th></th>\n",
       "      <th>user_id</th>\n",
       "      <th>lang</th>\n",
       "      <th>pro</th>\n",
       "      <th>product</th>\n",
       "      <th>price</th>\n",
       "      <th>sail</th>\n",
       "      <th>kite</th>\n",
       "      <th>wind</th>\n",
       "      <th>surf</th>\n",
       "      <th>fish</th>\n",
       "      <th>snow</th>\n",
       "      <th>other</th>\n",
       "      <th>source</th>\n",
       "      <th>campaign</th>\n",
       "      <th>install_date</th>\n",
       "    </tr>\n",
       "  </thead>\n",
       "  <tbody>\n",
       "    <tr>\n",
       "      <th>0</th>\n",
       "      <td>FA64312F-273A-41AB-BB9C-DB43AFE5B760</td>\n",
       "      <td>de_PL</td>\n",
       "      <td>0</td>\n",
       "      <td>NaN</td>\n",
       "      <td>NaN</td>\n",
       "      <td>0</td>\n",
       "      <td>0</td>\n",
       "      <td>0</td>\n",
       "      <td>0</td>\n",
       "      <td>0</td>\n",
       "      <td>0</td>\n",
       "      <td>1</td>\n",
       "      <td>Apple Search Ads</td>\n",
       "      <td>PL Discovery</td>\n",
       "      <td>01.02.2023</td>\n",
       "    </tr>\n",
       "    <tr>\n",
       "      <th>1</th>\n",
       "      <td>3FF6E426-B5D5-4C8B-A915-9FB58464EA50</td>\n",
       "      <td>en_NZ</td>\n",
       "      <td>0</td>\n",
       "      <td>NaN</td>\n",
       "      <td>NaN</td>\n",
       "      <td>1</td>\n",
       "      <td>0</td>\n",
       "      <td>0</td>\n",
       "      <td>0</td>\n",
       "      <td>1</td>\n",
       "      <td>0</td>\n",
       "      <td>0</td>\n",
       "      <td>Apple Search Ads</td>\n",
       "      <td>NZ Common_</td>\n",
       "      <td>01.02.2023</td>\n",
       "    </tr>\n",
       "    <tr>\n",
       "      <th>2</th>\n",
       "      <td>9C82BE9F-0212-47EA-872F-AF7237D43064</td>\n",
       "      <td>en_CA</td>\n",
       "      <td>1</td>\n",
       "      <td>co.windyapp.pro_sub_year_50_notrial</td>\n",
       "      <td>50.0</td>\n",
       "      <td>1</td>\n",
       "      <td>0</td>\n",
       "      <td>0</td>\n",
       "      <td>0</td>\n",
       "      <td>1</td>\n",
       "      <td>0</td>\n",
       "      <td>0</td>\n",
       "      <td>Apple Search Ads</td>\n",
       "      <td>CA Common_</td>\n",
       "      <td>01.02.2023</td>\n",
       "    </tr>\n",
       "    <tr>\n",
       "      <th>3</th>\n",
       "      <td>750657AF-3BB4-457A-9BBA-BE691CA5A75C</td>\n",
       "      <td>en_AR</td>\n",
       "      <td>0</td>\n",
       "      <td>NaN</td>\n",
       "      <td>NaN</td>\n",
       "      <td>0</td>\n",
       "      <td>1</td>\n",
       "      <td>0</td>\n",
       "      <td>0</td>\n",
       "      <td>0</td>\n",
       "      <td>0</td>\n",
       "      <td>0</td>\n",
       "      <td>Apple Search Ads</td>\n",
       "      <td>AR Skag</td>\n",
       "      <td>01.02.2023</td>\n",
       "    </tr>\n",
       "    <tr>\n",
       "      <th>4</th>\n",
       "      <td>A417C7DE-229E-4BB3-8BF0-17FA6883535E</td>\n",
       "      <td>ru_UA</td>\n",
       "      <td>0</td>\n",
       "      <td>NaN</td>\n",
       "      <td>NaN</td>\n",
       "      <td>0</td>\n",
       "      <td>0</td>\n",
       "      <td>0</td>\n",
       "      <td>0</td>\n",
       "      <td>0</td>\n",
       "      <td>0</td>\n",
       "      <td>1</td>\n",
       "      <td>Apple Search Ads</td>\n",
       "      <td>UA SKAG</td>\n",
       "      <td>01.02.2023</td>\n",
       "    </tr>\n",
       "  </tbody>\n",
       "</table>\n",
       "</div>"
      ],
      "text/plain": [
       "                                user_id   lang  pro  \\\n",
       "0  FA64312F-273A-41AB-BB9C-DB43AFE5B760  de_PL    0   \n",
       "1  3FF6E426-B5D5-4C8B-A915-9FB58464EA50  en_NZ    0   \n",
       "2  9C82BE9F-0212-47EA-872F-AF7237D43064  en_CA    1   \n",
       "3  750657AF-3BB4-457A-9BBA-BE691CA5A75C  en_AR    0   \n",
       "4  A417C7DE-229E-4BB3-8BF0-17FA6883535E  ru_UA    0   \n",
       "\n",
       "                               product  price  sail  kite  wind  surf  fish  \\\n",
       "0                                  NaN    NaN     0     0     0     0     0   \n",
       "1                                  NaN    NaN     1     0     0     0     1   \n",
       "2  co.windyapp.pro_sub_year_50_notrial   50.0     1     0     0     0     1   \n",
       "3                                  NaN    NaN     0     1     0     0     0   \n",
       "4                                  NaN    NaN     0     0     0     0     0   \n",
       "\n",
       "   snow  other            source      campaign install_date  \n",
       "0     0      1  Apple Search Ads  PL Discovery   01.02.2023  \n",
       "1     0      0  Apple Search Ads    NZ Common_   01.02.2023  \n",
       "2     0      0  Apple Search Ads    CA Common_   01.02.2023  \n",
       "3     0      0  Apple Search Ads       AR Skag   01.02.2023  \n",
       "4     0      1  Apple Search Ads       UA SKAG   01.02.2023  "
      ]
     },
     "execution_count": 5,
     "metadata": {},
     "output_type": "execute_result"
    }
   ],
   "source": [
    "users.head()"
   ]
  },
  {
   "cell_type": "code",
   "execution_count": 6,
   "id": "13832f70",
   "metadata": {},
   "outputs": [
    {
     "data": {
      "text/html": [
       "<div>\n",
       "<style scoped>\n",
       "    .dataframe tbody tr th:only-of-type {\n",
       "        vertical-align: middle;\n",
       "    }\n",
       "\n",
       "    .dataframe tbody tr th {\n",
       "        vertical-align: top;\n",
       "    }\n",
       "\n",
       "    .dataframe thead th {\n",
       "        text-align: right;\n",
       "    }\n",
       "</style>\n",
       "<table border=\"1\" class=\"dataframe\">\n",
       "  <thead>\n",
       "    <tr style=\"text-align: right;\">\n",
       "      <th></th>\n",
       "      <th>Date</th>\n",
       "      <th>Campaign</th>\n",
       "      <th>Cost</th>\n",
       "    </tr>\n",
       "  </thead>\n",
       "  <tbody>\n",
       "    <tr>\n",
       "      <th>0</th>\n",
       "      <td>2023-02-01</td>\n",
       "      <td>US Common_</td>\n",
       "      <td>89,22</td>\n",
       "    </tr>\n",
       "    <tr>\n",
       "      <th>1</th>\n",
       "      <td>2023-02-01</td>\n",
       "      <td>NZ Common_</td>\n",
       "      <td>21,54</td>\n",
       "    </tr>\n",
       "    <tr>\n",
       "      <th>2</th>\n",
       "      <td>2023-02-01</td>\n",
       "      <td>DE Common_</td>\n",
       "      <td>18,15</td>\n",
       "    </tr>\n",
       "    <tr>\n",
       "      <th>3</th>\n",
       "      <td>2023-02-01</td>\n",
       "      <td>UK Common_</td>\n",
       "      <td>11,21</td>\n",
       "    </tr>\n",
       "    <tr>\n",
       "      <th>4</th>\n",
       "      <td>2023-02-01</td>\n",
       "      <td>FR Common_</td>\n",
       "      <td>7,83</td>\n",
       "    </tr>\n",
       "  </tbody>\n",
       "</table>\n",
       "</div>"
      ],
      "text/plain": [
       "         Date    Campaign   Cost\n",
       "0  2023-02-01  US Common_  89,22\n",
       "1  2023-02-01  NZ Common_  21,54\n",
       "2  2023-02-01  DE Common_  18,15\n",
       "3  2023-02-01  UK Common_  11,21\n",
       "4  2023-02-01  FR Common_   7,83"
      ]
     },
     "execution_count": 6,
     "metadata": {},
     "output_type": "execute_result"
    }
   ],
   "source": [
    "costs.head()"
   ]
  },
  {
   "cell_type": "markdown",
   "id": "c7126227",
   "metadata": {},
   "source": [
    "**Размер данных**"
   ]
  },
  {
   "cell_type": "code",
   "execution_count": 7,
   "id": "4cf2876e",
   "metadata": {},
   "outputs": [
    {
     "data": {
      "text/plain": [
       "(6308, 15)"
      ]
     },
     "execution_count": 7,
     "metadata": {},
     "output_type": "execute_result"
    }
   ],
   "source": [
    "users.shape"
   ]
  },
  {
   "cell_type": "code",
   "execution_count": 8,
   "id": "94e41804",
   "metadata": {},
   "outputs": [
    {
     "data": {
      "text/plain": [
       "(2802, 3)"
      ]
     },
     "execution_count": 8,
     "metadata": {},
     "output_type": "execute_result"
    }
   ],
   "source": [
    "costs.shape"
   ]
  },
  {
   "cell_type": "code",
   "execution_count": 9,
   "id": "20b884db",
   "metadata": {},
   "outputs": [
    {
     "data": {
      "text/plain": [
       "94620"
      ]
     },
     "execution_count": 9,
     "metadata": {},
     "output_type": "execute_result"
    }
   ],
   "source": [
    "users.size"
   ]
  },
  {
   "cell_type": "code",
   "execution_count": 10,
   "id": "047c9171",
   "metadata": {},
   "outputs": [
    {
     "data": {
      "text/plain": [
       "8406"
      ]
     },
     "execution_count": 10,
     "metadata": {},
     "output_type": "execute_result"
    }
   ],
   "source": [
    "costs.size"
   ]
  },
  {
   "cell_type": "code",
   "execution_count": 11,
   "id": "c935ed1d",
   "metadata": {},
   "outputs": [
    {
     "data": {
      "text/plain": [
       "user_id          object\n",
       "lang             object\n",
       "pro               int64\n",
       "product          object\n",
       "price           float64\n",
       "sail              int64\n",
       "kite              int64\n",
       "wind              int64\n",
       "surf              int64\n",
       "fish              int64\n",
       "snow              int64\n",
       "other             int64\n",
       "source           object\n",
       "campaign         object\n",
       "install_date     object\n",
       "dtype: object"
      ]
     },
     "execution_count": 11,
     "metadata": {},
     "output_type": "execute_result"
    }
   ],
   "source": [
    "users.dtypes"
   ]
  },
  {
   "cell_type": "code",
   "execution_count": 12,
   "id": "b53cba0a",
   "metadata": {},
   "outputs": [
    {
     "data": {
      "text/plain": [
       "Date        object\n",
       "Campaign    object\n",
       "Cost        object\n",
       "dtype: object"
      ]
     },
     "execution_count": 12,
     "metadata": {},
     "output_type": "execute_result"
    }
   ],
   "source": [
    "costs.dtypes"
   ]
  },
  {
   "cell_type": "markdown",
   "id": "6adc7169",
   "metadata": {},
   "source": [
    "**Переведем дату в формат даты**"
   ]
  },
  {
   "cell_type": "code",
   "execution_count": 13,
   "id": "f3c0748b",
   "metadata": {},
   "outputs": [],
   "source": [
    "users['install_date'] = pd.to_datetime(users['install_date'], dayfirst=True)"
   ]
  },
  {
   "cell_type": "code",
   "execution_count": 14,
   "id": "fb503a65",
   "metadata": {},
   "outputs": [],
   "source": [
    "costs['Date'] = pd.to_datetime(costs['Date'])"
   ]
  },
  {
   "cell_type": "markdown",
   "id": "bcca7668",
   "metadata": {},
   "source": [
    "**Посчитаем пустые значения**"
   ]
  },
  {
   "cell_type": "code",
   "execution_count": 15,
   "id": "3d6d6c98",
   "metadata": {},
   "outputs": [
    {
     "data": {
      "text/plain": [
       "user_id            0\n",
       "lang             100\n",
       "pro                0\n",
       "product         6081\n",
       "price           6081\n",
       "sail               0\n",
       "kite               0\n",
       "wind               0\n",
       "surf               0\n",
       "fish               0\n",
       "snow               0\n",
       "other              0\n",
       "source             0\n",
       "campaign           0\n",
       "install_date       0\n",
       "dtype: int64"
      ]
     },
     "execution_count": 15,
     "metadata": {},
     "output_type": "execute_result"
    }
   ],
   "source": [
    "users.isna().sum()"
   ]
  },
  {
   "cell_type": "code",
   "execution_count": 16,
   "id": "58540daf",
   "metadata": {},
   "outputs": [
    {
     "data": {
      "text/plain": [
       "Date        0\n",
       "Campaign    0\n",
       "Cost        0\n",
       "dtype: int64"
      ]
     },
     "execution_count": 16,
     "metadata": {},
     "output_type": "execute_result"
    }
   ],
   "source": [
    "costs.isna().sum()"
   ]
  },
  {
   "cell_type": "markdown",
   "id": "53106292",
   "metadata": {},
   "source": [
    "**Описательные статистики**"
   ]
  },
  {
   "cell_type": "code",
   "execution_count": 17,
   "id": "5d76a040",
   "metadata": {},
   "outputs": [
    {
     "data": {
      "text/html": [
       "<div>\n",
       "<style scoped>\n",
       "    .dataframe tbody tr th:only-of-type {\n",
       "        vertical-align: middle;\n",
       "    }\n",
       "\n",
       "    .dataframe tbody tr th {\n",
       "        vertical-align: top;\n",
       "    }\n",
       "\n",
       "    .dataframe thead th {\n",
       "        text-align: right;\n",
       "    }\n",
       "</style>\n",
       "<table border=\"1\" class=\"dataframe\">\n",
       "  <thead>\n",
       "    <tr style=\"text-align: right;\">\n",
       "      <th></th>\n",
       "      <th>pro</th>\n",
       "      <th>price</th>\n",
       "      <th>sail</th>\n",
       "      <th>kite</th>\n",
       "      <th>wind</th>\n",
       "      <th>surf</th>\n",
       "      <th>fish</th>\n",
       "      <th>snow</th>\n",
       "      <th>other</th>\n",
       "    </tr>\n",
       "  </thead>\n",
       "  <tbody>\n",
       "    <tr>\n",
       "      <th>count</th>\n",
       "      <td>6308.000000</td>\n",
       "      <td>227.000000</td>\n",
       "      <td>6308.000000</td>\n",
       "      <td>6308.000000</td>\n",
       "      <td>6308.000000</td>\n",
       "      <td>6308.000000</td>\n",
       "      <td>6308.000000</td>\n",
       "      <td>6308.000000</td>\n",
       "      <td>6308.000000</td>\n",
       "    </tr>\n",
       "    <tr>\n",
       "      <th>mean</th>\n",
       "      <td>0.038681</td>\n",
       "      <td>70.044053</td>\n",
       "      <td>0.155992</td>\n",
       "      <td>0.033291</td>\n",
       "      <td>0.032815</td>\n",
       "      <td>0.072289</td>\n",
       "      <td>0.191503</td>\n",
       "      <td>0.057546</td>\n",
       "      <td>0.304217</td>\n",
       "    </tr>\n",
       "    <tr>\n",
       "      <th>std</th>\n",
       "      <td>0.192849</td>\n",
       "      <td>30.453763</td>\n",
       "      <td>0.362877</td>\n",
       "      <td>0.179410</td>\n",
       "      <td>0.178167</td>\n",
       "      <td>0.258987</td>\n",
       "      <td>0.393515</td>\n",
       "      <td>0.232901</td>\n",
       "      <td>0.460111</td>\n",
       "    </tr>\n",
       "    <tr>\n",
       "      <th>min</th>\n",
       "      <td>0.000000</td>\n",
       "      <td>10.000000</td>\n",
       "      <td>0.000000</td>\n",
       "      <td>0.000000</td>\n",
       "      <td>0.000000</td>\n",
       "      <td>0.000000</td>\n",
       "      <td>0.000000</td>\n",
       "      <td>0.000000</td>\n",
       "      <td>0.000000</td>\n",
       "    </tr>\n",
       "    <tr>\n",
       "      <th>25%</th>\n",
       "      <td>0.000000</td>\n",
       "      <td>50.000000</td>\n",
       "      <td>0.000000</td>\n",
       "      <td>0.000000</td>\n",
       "      <td>0.000000</td>\n",
       "      <td>0.000000</td>\n",
       "      <td>0.000000</td>\n",
       "      <td>0.000000</td>\n",
       "      <td>0.000000</td>\n",
       "    </tr>\n",
       "    <tr>\n",
       "      <th>50%</th>\n",
       "      <td>0.000000</td>\n",
       "      <td>60.000000</td>\n",
       "      <td>0.000000</td>\n",
       "      <td>0.000000</td>\n",
       "      <td>0.000000</td>\n",
       "      <td>0.000000</td>\n",
       "      <td>0.000000</td>\n",
       "      <td>0.000000</td>\n",
       "      <td>0.000000</td>\n",
       "    </tr>\n",
       "    <tr>\n",
       "      <th>75%</th>\n",
       "      <td>0.000000</td>\n",
       "      <td>100.000000</td>\n",
       "      <td>0.000000</td>\n",
       "      <td>0.000000</td>\n",
       "      <td>0.000000</td>\n",
       "      <td>0.000000</td>\n",
       "      <td>0.000000</td>\n",
       "      <td>0.000000</td>\n",
       "      <td>1.000000</td>\n",
       "    </tr>\n",
       "    <tr>\n",
       "      <th>max</th>\n",
       "      <td>1.000000</td>\n",
       "      <td>180.000000</td>\n",
       "      <td>1.000000</td>\n",
       "      <td>1.000000</td>\n",
       "      <td>1.000000</td>\n",
       "      <td>1.000000</td>\n",
       "      <td>1.000000</td>\n",
       "      <td>1.000000</td>\n",
       "      <td>1.000000</td>\n",
       "    </tr>\n",
       "  </tbody>\n",
       "</table>\n",
       "</div>"
      ],
      "text/plain": [
       "               pro       price         sail         kite         wind  \\\n",
       "count  6308.000000  227.000000  6308.000000  6308.000000  6308.000000   \n",
       "mean      0.038681   70.044053     0.155992     0.033291     0.032815   \n",
       "std       0.192849   30.453763     0.362877     0.179410     0.178167   \n",
       "min       0.000000   10.000000     0.000000     0.000000     0.000000   \n",
       "25%       0.000000   50.000000     0.000000     0.000000     0.000000   \n",
       "50%       0.000000   60.000000     0.000000     0.000000     0.000000   \n",
       "75%       0.000000  100.000000     0.000000     0.000000     0.000000   \n",
       "max       1.000000  180.000000     1.000000     1.000000     1.000000   \n",
       "\n",
       "              surf         fish         snow        other  \n",
       "count  6308.000000  6308.000000  6308.000000  6308.000000  \n",
       "mean      0.072289     0.191503     0.057546     0.304217  \n",
       "std       0.258987     0.393515     0.232901     0.460111  \n",
       "min       0.000000     0.000000     0.000000     0.000000  \n",
       "25%       0.000000     0.000000     0.000000     0.000000  \n",
       "50%       0.000000     0.000000     0.000000     0.000000  \n",
       "75%       0.000000     0.000000     0.000000     1.000000  \n",
       "max       1.000000     1.000000     1.000000     1.000000  "
      ]
     },
     "execution_count": 17,
     "metadata": {},
     "output_type": "execute_result"
    }
   ],
   "source": [
    "users.describe()"
   ]
  },
  {
   "cell_type": "code",
   "execution_count": 18,
   "id": "b579d9b8",
   "metadata": {},
   "outputs": [
    {
     "data": {
      "text/html": [
       "<div>\n",
       "<style scoped>\n",
       "    .dataframe tbody tr th:only-of-type {\n",
       "        vertical-align: middle;\n",
       "    }\n",
       "\n",
       "    .dataframe tbody tr th {\n",
       "        vertical-align: top;\n",
       "    }\n",
       "\n",
       "    .dataframe thead th {\n",
       "        text-align: right;\n",
       "    }\n",
       "</style>\n",
       "<table border=\"1\" class=\"dataframe\">\n",
       "  <thead>\n",
       "    <tr style=\"text-align: right;\">\n",
       "      <th></th>\n",
       "      <th>Campaign</th>\n",
       "      <th>Cost</th>\n",
       "    </tr>\n",
       "  </thead>\n",
       "  <tbody>\n",
       "    <tr>\n",
       "      <th>count</th>\n",
       "      <td>2802</td>\n",
       "      <td>2802</td>\n",
       "    </tr>\n",
       "    <tr>\n",
       "      <th>unique</th>\n",
       "      <td>107</td>\n",
       "      <td>643</td>\n",
       "    </tr>\n",
       "    <tr>\n",
       "      <th>top</th>\n",
       "      <td>US Common_</td>\n",
       "      <td>0,07</td>\n",
       "    </tr>\n",
       "    <tr>\n",
       "      <th>freq</th>\n",
       "      <td>28</td>\n",
       "      <td>53</td>\n",
       "    </tr>\n",
       "  </tbody>\n",
       "</table>\n",
       "</div>"
      ],
      "text/plain": [
       "          Campaign  Cost\n",
       "count         2802  2802\n",
       "unique         107   643\n",
       "top     US Common_  0,07\n",
       "freq            28    53"
      ]
     },
     "execution_count": 18,
     "metadata": {},
     "output_type": "execute_result"
    }
   ],
   "source": [
    "costs.describe(include=[object])"
   ]
  },
  {
   "cell_type": "markdown",
   "id": "d4a717c6",
   "metadata": {},
   "source": [
    "**Уникальные кампании**"
   ]
  },
  {
   "cell_type": "code",
   "execution_count": 19,
   "id": "013b6a39",
   "metadata": {},
   "outputs": [
    {
     "data": {
      "text/plain": [
       "array(['US Common_', 'NZ Common_', 'DE Common_', 'UK Common_',\n",
       "       'FR Common_', 'AU SKAG_', 'CA Common_', 'JP Common_', 'GR SKAG',\n",
       "       'NL Common_', 'ZA Discovery', 'MX SKAG', 'IL Discovery', 'MY SKAG',\n",
       "       'PL SKAG', 'ID SKAG', 'AU Discovery', 'CH Common_', 'AR Discovery',\n",
       "       'SA SKAG', 'SP Common_', 'VN SKAG', 'CZ SKAG', 'DK SKAG',\n",
       "       'PL Discovery', 'EG Discovery', 'IT Common_', 'PH SKAG',\n",
       "       'HK Discovery', 'KR SKAG_', 'AT Common_', 'NW Common_',\n",
       "       'TH Discovery', 'CZ Discovery', 'BE SKAG', 'LB Discovery',\n",
       "       'BE Discovery', 'DK Discovery', 'ZA SKAG', 'ID Discovery',\n",
       "       'KH Discovery', 'UA Discovery', 'JO Discovery', 'CL Common_',\n",
       "       'CO Discovery', 'AR Skag', 'MY Discovery', 'KZ Discovery',\n",
       "       'US_prod_page', 'SE Discovery', 'TH SKAG', 'UA SKAG',\n",
       "       'PK Discovery', 'QA Discovery', 'IL SKAG', 'RO SKAG',\n",
       "       'AL Discovery', 'FI Discovery', 'MX Discovery', 'GR Discovery',\n",
       "       'SG Discovery', 'RO Discovery', 'TW SKAG', 'KW Discovery',\n",
       "       'OM Discovery', 'VN Discovery', 'HR SKAG', 'IN Discovery',\n",
       "       'IE SKAG', 'TW Discovery', 'IN SKAG', 'LB SKAG', 'UAE Common_',\n",
       "       'IE Discovery', 'EG SKAG', 'NZ_product_page', 'AU_product_page',\n",
       "       'QA SKAG', 'CO SKAG', 'PH Discovery', 'SA Discovery',\n",
       "       'US Search Tab_Return', 'OM SKAG', 'DE_prod_page', 'HU Discovery',\n",
       "       'PE Discovery', 'AZ Discovery', 'KZ SKAG', 'MO Discovery',\n",
       "       'EC Discovery', 'HR Discovery', 'HU SKAG', 'PE SKAG', 'KW SKAG',\n",
       "       'JO SKAG', 'HK SKAG', 'PT Common_', 'SE SKAG', 'AZ SKAG',\n",
       "       'EC SKAG', 'UK_prod_page', 'SG SKAG', 'FI SKAG', 'MO SKAG',\n",
       "       'PK SKAG', 'KH SKAG', 'AL SKAG'], dtype=object)"
      ]
     },
     "execution_count": 19,
     "metadata": {},
     "output_type": "execute_result"
    }
   ],
   "source": [
    "costs.Campaign.unique()"
   ]
  },
  {
   "cell_type": "markdown",
   "id": "52750cc4",
   "metadata": {},
   "source": [
    "**Уникальные юзеры**"
   ]
  },
  {
   "cell_type": "code",
   "execution_count": 20,
   "id": "3ec50284",
   "metadata": {},
   "outputs": [
    {
     "data": {
      "text/plain": [
       "6308"
      ]
     },
     "execution_count": 20,
     "metadata": {},
     "output_type": "execute_result"
    }
   ],
   "source": [
    "users.user_id.nunique()"
   ]
  },
  {
   "cell_type": "markdown",
   "id": "04a53e24",
   "metadata": {},
   "source": [
    "В данном случае все строки датафрейма users являются уникальными"
   ]
  },
  {
   "cell_type": "code",
   "execution_count": null,
   "id": "123eeaab",
   "metadata": {},
   "outputs": [],
   "source": []
  },
  {
   "cell_type": "markdown",
   "id": "1f39912b",
   "metadata": {},
   "source": [
    "## Задача №1"
   ]
  },
  {
   "cell_type": "markdown",
   "id": "5734884e",
   "metadata": {},
   "source": [
    "- **Найти, как минимум, две кампании, в рамках которых происходило что-то странное, и попробовать объяснить причину.**"
   ]
  },
  {
   "cell_type": "code",
   "execution_count": 21,
   "id": "570082e0",
   "metadata": {},
   "outputs": [],
   "source": [
    "costs = costs.rename(columns={'Campaign': 'campaign'})"
   ]
  },
  {
   "cell_type": "markdown",
   "id": "54a0f816",
   "metadata": {},
   "source": [
    "Для дальнейшего анализа нужно перевести столбец Cost из строкового в число с плавающей точкой."
   ]
  },
  {
   "cell_type": "code",
   "execution_count": 22,
   "id": "f0ead69a",
   "metadata": {},
   "outputs": [],
   "source": [
    "costs.Cost = costs.Cost.str.replace(',', '.')"
   ]
  },
  {
   "cell_type": "code",
   "execution_count": 23,
   "id": "fb2ca229",
   "metadata": {},
   "outputs": [],
   "source": [
    "costs.Cost = costs.Cost.astype('float64')"
   ]
  },
  {
   "cell_type": "markdown",
   "id": "a0a685e8",
   "metadata": {},
   "source": [
    "Взглянем на динамику кампаний по дате"
   ]
  },
  {
   "cell_type": "code",
   "execution_count": 24,
   "id": "7c68b808",
   "metadata": {},
   "outputs": [
    {
     "data": {
      "text/plain": [
       "<AxesSubplot:xlabel='Date', ylabel='Cost'>"
      ]
     },
     "execution_count": 24,
     "metadata": {},
     "output_type": "execute_result"
    },
    {
     "data": {
      "image/png": "[encoded data removed]",
      "text/plain": [
       "<Figure size 1800x720 with 1 Axes>"
      ]
     },
     "metadata": {},
     "output_type": "display_data"
    }
   ],
   "source": [
    "df_sort = costs.groupby(['campaign', 'Date'], as_index=False).agg({'Cost': 'sum'}).sort_values('Cost', ascending=False)\n",
    "sns.lineplot(data=df_sort, x='Date', y='Cost', hue = 'campaign', legend=False) # поставить legend = True что бы посмотреть легенду"
   ]
  },
  {
   "cell_type": "code",
   "execution_count": 25,
   "id": "cb831d90",
   "metadata": {},
   "outputs": [
    {
     "data": {
      "text/html": [
       "<div>\n",
       "<style scoped>\n",
       "    .dataframe tbody tr th:only-of-type {\n",
       "        vertical-align: middle;\n",
       "    }\n",
       "\n",
       "    .dataframe tbody tr th {\n",
       "        vertical-align: top;\n",
       "    }\n",
       "\n",
       "    .dataframe thead th {\n",
       "        text-align: right;\n",
       "    }\n",
       "</style>\n",
       "<table border=\"1\" class=\"dataframe\">\n",
       "  <thead>\n",
       "    <tr style=\"text-align: right;\">\n",
       "      <th></th>\n",
       "      <th>campaign</th>\n",
       "      <th>Cost</th>\n",
       "    </tr>\n",
       "  </thead>\n",
       "  <tbody>\n",
       "    <tr>\n",
       "      <th>100</th>\n",
       "      <td>US Common_</td>\n",
       "      <td>3487.89</td>\n",
       "    </tr>\n",
       "    <tr>\n",
       "      <th>67</th>\n",
       "      <td>NZ Common_</td>\n",
       "      <td>1367.59</td>\n",
       "    </tr>\n",
       "    <tr>\n",
       "      <th>19</th>\n",
       "      <td>DE Common_</td>\n",
       "      <td>417.11</td>\n",
       "    </tr>\n",
       "    <tr>\n",
       "      <th>29</th>\n",
       "      <td>FR Common_</td>\n",
       "      <td>406.30</td>\n",
       "    </tr>\n",
       "    <tr>\n",
       "      <th>98</th>\n",
       "      <td>UK Common_</td>\n",
       "      <td>406.24</td>\n",
       "    </tr>\n",
       "    <tr>\n",
       "      <th>12</th>\n",
       "      <td>CA Common_</td>\n",
       "      <td>284.68</td>\n",
       "    </tr>\n",
       "    <tr>\n",
       "      <th>105</th>\n",
       "      <td>ZA Discovery</td>\n",
       "      <td>166.81</td>\n",
       "    </tr>\n",
       "    <tr>\n",
       "      <th>6</th>\n",
       "      <td>AU SKAG_</td>\n",
       "      <td>151.58</td>\n",
       "    </tr>\n",
       "    <tr>\n",
       "      <th>49</th>\n",
       "      <td>JP Common_</td>\n",
       "      <td>148.35</td>\n",
       "    </tr>\n",
       "    <tr>\n",
       "      <th>39</th>\n",
       "      <td>ID SKAG</td>\n",
       "      <td>125.60</td>\n",
       "    </tr>\n",
       "  </tbody>\n",
       "</table>\n",
       "</div>"
      ],
      "text/plain": [
       "         campaign     Cost\n",
       "100    US Common_  3487.89\n",
       "67     NZ Common_  1367.59\n",
       "19     DE Common_   417.11\n",
       "29     FR Common_   406.30\n",
       "98     UK Common_   406.24\n",
       "12     CA Common_   284.68\n",
       "105  ZA Discovery   166.81\n",
       "6        AU SKAG_   151.58\n",
       "49     JP Common_   148.35\n",
       "39        ID SKAG   125.60"
      ]
     },
     "execution_count": 25,
     "metadata": {},
     "output_type": "execute_result"
    }
   ],
   "source": [
    "costs\\\n",
    "    .groupby('campaign', as_index=False)\\\n",
    "    .agg({'Cost': 'sum'})\\\n",
    "    .sort_values('Cost', ascending=False).head(10)"
   ]
  },
  {
   "cell_type": "markdown",
   "id": "3c3092d2",
   "metadata": {},
   "source": [
    "Выброс по Новой Зеландии"
   ]
  },
  {
   "cell_type": "code",
   "execution_count": 26,
   "id": "5476bcad",
   "metadata": {},
   "outputs": [],
   "source": [
    "nz_common = costs.query('Date > \"2023-02-05\" & Date < \"2023-02-16\" & campaign == \"NZ Common_\"')"
   ]
  },
  {
   "cell_type": "code",
   "execution_count": 27,
   "id": "5ee92e1a",
   "metadata": {},
   "outputs": [
    {
     "data": {
      "text/html": [
       "<div>\n",
       "<style scoped>\n",
       "    .dataframe tbody tr th:only-of-type {\n",
       "        vertical-align: middle;\n",
       "    }\n",
       "\n",
       "    .dataframe tbody tr th {\n",
       "        vertical-align: top;\n",
       "    }\n",
       "\n",
       "    .dataframe thead th {\n",
       "        text-align: right;\n",
       "    }\n",
       "</style>\n",
       "<table border=\"1\" class=\"dataframe\">\n",
       "  <thead>\n",
       "    <tr style=\"text-align: right;\">\n",
       "      <th></th>\n",
       "      <th>Date</th>\n",
       "      <th>campaign</th>\n",
       "      <th>Cost</th>\n",
       "    </tr>\n",
       "  </thead>\n",
       "  <tbody>\n",
       "    <tr>\n",
       "      <th>504</th>\n",
       "      <td>2023-02-06</td>\n",
       "      <td>NZ Common_</td>\n",
       "      <td>27.68</td>\n",
       "    </tr>\n",
       "    <tr>\n",
       "      <th>603</th>\n",
       "      <td>2023-02-07</td>\n",
       "      <td>NZ Common_</td>\n",
       "      <td>22.83</td>\n",
       "    </tr>\n",
       "    <tr>\n",
       "      <th>701</th>\n",
       "      <td>2023-02-08</td>\n",
       "      <td>NZ Common_</td>\n",
       "      <td>58.67</td>\n",
       "    </tr>\n",
       "    <tr>\n",
       "      <th>801</th>\n",
       "      <td>2023-02-09</td>\n",
       "      <td>NZ Common_</td>\n",
       "      <td>93.95</td>\n",
       "    </tr>\n",
       "    <tr>\n",
       "      <th>902</th>\n",
       "      <td>2023-02-10</td>\n",
       "      <td>NZ Common_</td>\n",
       "      <td>146.76</td>\n",
       "    </tr>\n",
       "  </tbody>\n",
       "</table>\n",
       "</div>"
      ],
      "text/plain": [
       "          Date    campaign    Cost\n",
       "504 2023-02-06  NZ Common_   27.68\n",
       "603 2023-02-07  NZ Common_   22.83\n",
       "701 2023-02-08  NZ Common_   58.67\n",
       "801 2023-02-09  NZ Common_   93.95\n",
       "902 2023-02-10  NZ Common_  146.76"
      ]
     },
     "execution_count": 27,
     "metadata": {},
     "output_type": "execute_result"
    }
   ],
   "source": [
    "nz_common.head()"
   ]
  },
  {
   "cell_type": "code",
   "execution_count": 28,
   "id": "cec7ad31",
   "metadata": {},
   "outputs": [
    {
     "data": {
      "text/plain": [
       "<AxesSubplot:xlabel='Date', ylabel='Cost'>"
      ]
     },
     "execution_count": 28,
     "metadata": {},
     "output_type": "execute_result"
    },
    {
     "data": {
      "image/png": "[encoded data removed]",
      "text/plain": [
       "<Figure size 1800x720 with 1 Axes>"
      ]
     },
     "metadata": {},
     "output_type": "display_data"
    }
   ],
   "source": [
    "sns.lineplot(data=nz_common, x='Date', y='Cost')"
   ]
  },
  {
   "cell_type": "markdown",
   "id": "cdb30486",
   "metadata": {},
   "source": [
    "**Видим что подскочила активность пользователей, в эти дни (5-16 февраля) в Новой Зеландии прошел циклон Габриель, предполагаю что пользователи высматривали погоду что бы не угодить под шторм.**<br/>\n",
    "Ссылки:<br/>\n",
    "https://en.wikipedia.org/wiki/Cyclone_Gabrielle<br/>\n",
    "https://www.dw.com/en/cyclone-gabrielle-batters-new-zealand/a-64681409<br/>"
   ]
  },
  {
   "cell_type": "markdown",
   "id": "4e68307b",
   "metadata": {},
   "source": [
    "Выбросы по США"
   ]
  },
  {
   "cell_type": "code",
   "execution_count": 29,
   "id": "87c299d5",
   "metadata": {},
   "outputs": [],
   "source": [
    "us_common = costs.query('campaign == \"US Common_\"')"
   ]
  },
  {
   "cell_type": "code",
   "execution_count": 30,
   "id": "b5e11790",
   "metadata": {},
   "outputs": [
    {
     "data": {
      "text/plain": [
       "<AxesSubplot:xlabel='Date', ylabel='Cost'>"
      ]
     },
     "execution_count": 30,
     "metadata": {},
     "output_type": "execute_result"
    },
    {
     "data": {
      "image/png": "[encoded data removed]",
      "text/plain": [
       "<Figure size 1800x720 with 1 Axes>"
      ]
     },
     "metadata": {},
     "output_type": "display_data"
    }
   ],
   "source": [
    "sns.lineplot(data=us_common, x='Date', y='Cost')"
   ]
  },
  {
   "cell_type": "markdown",
   "id": "1542e203",
   "metadata": {},
   "source": [
    "По США если не учитывать что люди с этой страны вообще чаще пользуются разного рода приложениями, то ситуация аналогична.<br/>\n",
    "Например двойной пик 2023-02-23 мог вызвать снежный шторм обрушившийся на США от побережья до побережья. Ссылки:<br/>\n",
    "https://en.wikipedia.org/wiki/February_2023_North_American_storm_complex<br/>\n",
    "https://www.weather.gov/dtx/2023-02-22-Winter-Storm<br/>\n",
    "https://eu.usatoday.com/story/news/weather/2023/02/22/wednesday-forecast-winter-weather-0222/11316127002/<br/>\n",
    "Пик 2023-02-16 мог быть вызван все той же причиной со снежным штормом, а так же начавшимися торнадо<br/>\n",
    "https://www.weather.gov/ohx/feb16tors<br/>\n",
    "В общем неспокойный по погоде в США выдался февраль"
   ]
  },
  {
   "cell_type": "markdown",
   "id": "68db1ac4",
   "metadata": {},
   "source": [
    "Выбросы по Франции"
   ]
  },
  {
   "cell_type": "code",
   "execution_count": 31,
   "id": "1b30f343",
   "metadata": {},
   "outputs": [],
   "source": [
    "fr_common = costs.query('Date > \"2023-02-14\" & Date < \"2023-02-23\" & campaign == \"FR Common_\"')"
   ]
  },
  {
   "cell_type": "code",
   "execution_count": 32,
   "id": "920c06ba",
   "metadata": {},
   "outputs": [
    {
     "data": {
      "text/plain": [
       "<AxesSubplot:xlabel='Date', ylabel='Cost'>"
      ]
     },
     "execution_count": 32,
     "metadata": {},
     "output_type": "execute_result"
    },
    {
     "data": {
      "image/png": "[encoded data removed]",
      "text/plain": [
       "<Figure size 1800x720 with 1 Axes>"
      ]
     },
     "metadata": {},
     "output_type": "display_data"
    }
   ],
   "source": [
    "sns.lineplot(data=fr_common, x='Date', y='Cost')"
   ]
  },
  {
   "cell_type": "markdown",
   "id": "0144f32d",
   "metadata": {},
   "source": [
    "На Францию же обрушились дожди с градом и сильные ветра<br/>\n",
    "https://newsrnd.com/news/2023-02-17-weather--a-new-cold-snap-expected-in-france-at-the-end-of-next-week.SyZgKluTao.html"
   ]
  },
  {
   "cell_type": "markdown",
   "id": "5d8c1d69",
   "metadata": {},
   "source": [
    "**Вывод**<br/>\n",
    "Учитывая специфику приложения **windy.app** всплески активности в рекламных кампаниях вполне можно объяснить погодными условиями."
   ]
  },
  {
   "cell_type": "code",
   "execution_count": null,
   "id": "5617136e",
   "metadata": {},
   "outputs": [],
   "source": []
  },
  {
   "cell_type": "markdown",
   "id": "1fc51271",
   "metadata": {},
   "source": [
    " - **Найти три наиболее прибыльные кампании и три наиболее убыточные.**\n"
   ]
  },
  {
   "cell_type": "markdown",
   "id": "59e3269a",
   "metadata": {},
   "source": [
    "Создадим новый дф где посчитаем доход по формуле sum(price) - cost = revenue<br/>"
   ]
  },
  {
   "cell_type": "code",
   "execution_count": 33,
   "id": "0d6bf2e1",
   "metadata": {},
   "outputs": [
    {
     "data": {
      "text/html": [
       "<div>\n",
       "<style scoped>\n",
       "    .dataframe tbody tr th:only-of-type {\n",
       "        vertical-align: middle;\n",
       "    }\n",
       "\n",
       "    .dataframe tbody tr th {\n",
       "        vertical-align: top;\n",
       "    }\n",
       "\n",
       "    .dataframe thead th {\n",
       "        text-align: right;\n",
       "    }\n",
       "</style>\n",
       "<table border=\"1\" class=\"dataframe\">\n",
       "  <thead>\n",
       "    <tr style=\"text-align: right;\">\n",
       "      <th></th>\n",
       "      <th>campaign</th>\n",
       "      <th>price</th>\n",
       "    </tr>\n",
       "  </thead>\n",
       "  <tbody>\n",
       "    <tr>\n",
       "      <th>0</th>\n",
       "      <td>AL Discovery</td>\n",
       "      <td>0.0</td>\n",
       "    </tr>\n",
       "    <tr>\n",
       "      <th>1</th>\n",
       "      <td>AL SKAG</td>\n",
       "      <td>0.0</td>\n",
       "    </tr>\n",
       "    <tr>\n",
       "      <th>2</th>\n",
       "      <td>AR Discovery</td>\n",
       "      <td>100.0</td>\n",
       "    </tr>\n",
       "    <tr>\n",
       "      <th>3</th>\n",
       "      <td>AR Skag</td>\n",
       "      <td>150.0</td>\n",
       "    </tr>\n",
       "    <tr>\n",
       "      <th>4</th>\n",
       "      <td>AT Common_</td>\n",
       "      <td>0.0</td>\n",
       "    </tr>\n",
       "  </tbody>\n",
       "</table>\n",
       "</div>"
      ],
      "text/plain": [
       "       campaign  price\n",
       "0  AL Discovery    0.0\n",
       "1       AL SKAG    0.0\n",
       "2  AR Discovery  100.0\n",
       "3       AR Skag  150.0\n",
       "4    AT Common_    0.0"
      ]
     },
     "execution_count": 33,
     "metadata": {},
     "output_type": "execute_result"
    }
   ],
   "source": [
    "df_campaign_price = users\\\n",
    "    .groupby('campaign', as_index=False)\\\n",
    "    .agg({'price': 'sum'})\n",
    "df_campaign_price.head()"
   ]
  },
  {
   "cell_type": "code",
   "execution_count": 34,
   "id": "9ff67d04",
   "metadata": {},
   "outputs": [
    {
     "data": {
      "text/plain": [
       "(105, 2)"
      ]
     },
     "execution_count": 34,
     "metadata": {},
     "output_type": "execute_result"
    }
   ],
   "source": [
    "df_campaign_price.shape"
   ]
  },
  {
   "cell_type": "code",
   "execution_count": 35,
   "id": "a0b40738",
   "metadata": {},
   "outputs": [
    {
     "data": {
      "text/html": [
       "<div>\n",
       "<style scoped>\n",
       "    .dataframe tbody tr th:only-of-type {\n",
       "        vertical-align: middle;\n",
       "    }\n",
       "\n",
       "    .dataframe tbody tr th {\n",
       "        vertical-align: top;\n",
       "    }\n",
       "\n",
       "    .dataframe thead th {\n",
       "        text-align: right;\n",
       "    }\n",
       "</style>\n",
       "<table border=\"1\" class=\"dataframe\">\n",
       "  <thead>\n",
       "    <tr style=\"text-align: right;\">\n",
       "      <th></th>\n",
       "      <th>campaign</th>\n",
       "      <th>Cost</th>\n",
       "    </tr>\n",
       "  </thead>\n",
       "  <tbody>\n",
       "    <tr>\n",
       "      <th>0</th>\n",
       "      <td>AL Discovery</td>\n",
       "      <td>15.70</td>\n",
       "    </tr>\n",
       "    <tr>\n",
       "      <th>1</th>\n",
       "      <td>AL SKAG</td>\n",
       "      <td>1.87</td>\n",
       "    </tr>\n",
       "    <tr>\n",
       "      <th>2</th>\n",
       "      <td>AR Discovery</td>\n",
       "      <td>56.08</td>\n",
       "    </tr>\n",
       "    <tr>\n",
       "      <th>3</th>\n",
       "      <td>AR Skag</td>\n",
       "      <td>24.85</td>\n",
       "    </tr>\n",
       "    <tr>\n",
       "      <th>4</th>\n",
       "      <td>AT Common_</td>\n",
       "      <td>28.53</td>\n",
       "    </tr>\n",
       "  </tbody>\n",
       "</table>\n",
       "</div>"
      ],
      "text/plain": [
       "       campaign   Cost\n",
       "0  AL Discovery  15.70\n",
       "1       AL SKAG   1.87\n",
       "2  AR Discovery  56.08\n",
       "3       AR Skag  24.85\n",
       "4    AT Common_  28.53"
      ]
     },
     "execution_count": 35,
     "metadata": {},
     "output_type": "execute_result"
    }
   ],
   "source": [
    "df_campaign_cost = costs\\\n",
    "    .groupby('campaign', as_index=False)\\\n",
    "    .agg({'Cost': 'sum'})\n",
    "    \n",
    "df_campaign_cost.head()"
   ]
  },
  {
   "cell_type": "code",
   "execution_count": 36,
   "id": "a343993b",
   "metadata": {},
   "outputs": [],
   "source": [
    "df_campagin_revenue = df_campaign_price.merge(df_campaign_cost, on='campaign')"
   ]
  },
  {
   "cell_type": "code",
   "execution_count": 37,
   "id": "2d28b8aa",
   "metadata": {},
   "outputs": [
    {
     "data": {
      "text/plain": [
       "(105, 3)"
      ]
     },
     "execution_count": 37,
     "metadata": {},
     "output_type": "execute_result"
    }
   ],
   "source": [
    "df_campagin_revenue.shape"
   ]
  },
  {
   "cell_type": "code",
   "execution_count": 38,
   "id": "417773f8",
   "metadata": {},
   "outputs": [
    {
     "data": {
      "text/plain": [
       "campaign     object\n",
       "price       float64\n",
       "Cost        float64\n",
       "dtype: object"
      ]
     },
     "execution_count": 38,
     "metadata": {},
     "output_type": "execute_result"
    }
   ],
   "source": [
    "df_campagin_revenue.dtypes"
   ]
  },
  {
   "cell_type": "code",
   "execution_count": 39,
   "id": "0ebca985",
   "metadata": {},
   "outputs": [
    {
     "data": {
      "text/html": [
       "<div>\n",
       "<style scoped>\n",
       "    .dataframe tbody tr th:only-of-type {\n",
       "        vertical-align: middle;\n",
       "    }\n",
       "\n",
       "    .dataframe tbody tr th {\n",
       "        vertical-align: top;\n",
       "    }\n",
       "\n",
       "    .dataframe thead th {\n",
       "        text-align: right;\n",
       "    }\n",
       "</style>\n",
       "<table border=\"1\" class=\"dataframe\">\n",
       "  <thead>\n",
       "    <tr style=\"text-align: right;\">\n",
       "      <th></th>\n",
       "      <th>campaign</th>\n",
       "      <th>price</th>\n",
       "      <th>Cost</th>\n",
       "    </tr>\n",
       "  </thead>\n",
       "  <tbody>\n",
       "    <tr>\n",
       "      <th>0</th>\n",
       "      <td>AL Discovery</td>\n",
       "      <td>0.0</td>\n",
       "      <td>15.70</td>\n",
       "    </tr>\n",
       "    <tr>\n",
       "      <th>1</th>\n",
       "      <td>AL SKAG</td>\n",
       "      <td>0.0</td>\n",
       "      <td>1.87</td>\n",
       "    </tr>\n",
       "    <tr>\n",
       "      <th>2</th>\n",
       "      <td>AR Discovery</td>\n",
       "      <td>100.0</td>\n",
       "      <td>56.08</td>\n",
       "    </tr>\n",
       "    <tr>\n",
       "      <th>3</th>\n",
       "      <td>AR Skag</td>\n",
       "      <td>150.0</td>\n",
       "      <td>24.85</td>\n",
       "    </tr>\n",
       "    <tr>\n",
       "      <th>4</th>\n",
       "      <td>AT Common_</td>\n",
       "      <td>0.0</td>\n",
       "      <td>28.53</td>\n",
       "    </tr>\n",
       "  </tbody>\n",
       "</table>\n",
       "</div>"
      ],
      "text/plain": [
       "       campaign  price   Cost\n",
       "0  AL Discovery    0.0  15.70\n",
       "1       AL SKAG    0.0   1.87\n",
       "2  AR Discovery  100.0  56.08\n",
       "3       AR Skag  150.0  24.85\n",
       "4    AT Common_    0.0  28.53"
      ]
     },
     "execution_count": 39,
     "metadata": {},
     "output_type": "execute_result"
    }
   ],
   "source": [
    "df_campagin_revenue.head()"
   ]
  },
  {
   "cell_type": "code",
   "execution_count": 40,
   "id": "c641ee32",
   "metadata": {},
   "outputs": [
    {
     "data": {
      "text/html": [
       "<div>\n",
       "<style scoped>\n",
       "    .dataframe tbody tr th:only-of-type {\n",
       "        vertical-align: middle;\n",
       "    }\n",
       "\n",
       "    .dataframe tbody tr th {\n",
       "        vertical-align: top;\n",
       "    }\n",
       "\n",
       "    .dataframe thead th {\n",
       "        text-align: right;\n",
       "    }\n",
       "</style>\n",
       "<table border=\"1\" class=\"dataframe\">\n",
       "  <thead>\n",
       "    <tr style=\"text-align: right;\">\n",
       "      <th></th>\n",
       "      <th>campaign</th>\n",
       "      <th>price</th>\n",
       "      <th>Cost</th>\n",
       "      <th>revenue</th>\n",
       "    </tr>\n",
       "  </thead>\n",
       "  <tbody>\n",
       "    <tr>\n",
       "      <th>0</th>\n",
       "      <td>AL Discovery</td>\n",
       "      <td>0.0</td>\n",
       "      <td>15.70</td>\n",
       "      <td>-15.70</td>\n",
       "    </tr>\n",
       "    <tr>\n",
       "      <th>1</th>\n",
       "      <td>AL SKAG</td>\n",
       "      <td>0.0</td>\n",
       "      <td>1.87</td>\n",
       "      <td>-1.87</td>\n",
       "    </tr>\n",
       "    <tr>\n",
       "      <th>2</th>\n",
       "      <td>AR Discovery</td>\n",
       "      <td>100.0</td>\n",
       "      <td>56.08</td>\n",
       "      <td>43.92</td>\n",
       "    </tr>\n",
       "    <tr>\n",
       "      <th>3</th>\n",
       "      <td>AR Skag</td>\n",
       "      <td>150.0</td>\n",
       "      <td>24.85</td>\n",
       "      <td>125.15</td>\n",
       "    </tr>\n",
       "    <tr>\n",
       "      <th>4</th>\n",
       "      <td>AT Common_</td>\n",
       "      <td>0.0</td>\n",
       "      <td>28.53</td>\n",
       "      <td>-28.53</td>\n",
       "    </tr>\n",
       "  </tbody>\n",
       "</table>\n",
       "</div>"
      ],
      "text/plain": [
       "       campaign  price   Cost  revenue\n",
       "0  AL Discovery    0.0  15.70   -15.70\n",
       "1       AL SKAG    0.0   1.87    -1.87\n",
       "2  AR Discovery  100.0  56.08    43.92\n",
       "3       AR Skag  150.0  24.85   125.15\n",
       "4    AT Common_    0.0  28.53   -28.53"
      ]
     },
     "execution_count": 40,
     "metadata": {},
     "output_type": "execute_result"
    }
   ],
   "source": [
    "df_campagin_revenue['revenue'] = df_campagin_revenue.price - df_campagin_revenue.Cost\n",
    "df_campagin_revenue.head()"
   ]
  },
  {
   "cell_type": "markdown",
   "id": "69dd09c8",
   "metadata": {},
   "source": [
    "Проверка по суммам прибыли и убытка с исходными датасетами."
   ]
  },
  {
   "cell_type": "code",
   "execution_count": 67,
   "id": "e9da74d6",
   "metadata": {},
   "outputs": [
    {
     "data": {
      "text/plain": [
       "3487.89"
      ]
     },
     "execution_count": 67,
     "metadata": {},
     "output_type": "execute_result"
    }
   ],
   "source": [
    "costs.query('campaign == \"US Common_\"').Cost.sum()"
   ]
  },
  {
   "cell_type": "code",
   "execution_count": 68,
   "id": "e59d7766",
   "metadata": {},
   "outputs": [
    {
     "data": {
      "text/plain": [
       "8110.0"
      ]
     },
     "execution_count": 68,
     "metadata": {},
     "output_type": "execute_result"
    }
   ],
   "source": [
    "users.query('campaign == \"US Common_\"').price.sum()"
   ]
  },
  {
   "cell_type": "code",
   "execution_count": 69,
   "id": "fa98f897",
   "metadata": {},
   "outputs": [
    {
     "data": {
      "text/plain": [
       "3487.89"
      ]
     },
     "execution_count": 69,
     "metadata": {},
     "output_type": "execute_result"
    }
   ],
   "source": [
    "df_campagin_revenue.query('campaign == \"US Common_\"').Cost.sum()"
   ]
  },
  {
   "cell_type": "code",
   "execution_count": 70,
   "id": "cd2681db",
   "metadata": {},
   "outputs": [
    {
     "data": {
      "text/plain": [
       "8110.0"
      ]
     },
     "execution_count": 70,
     "metadata": {},
     "output_type": "execute_result"
    }
   ],
   "source": [
    "df_campagin_revenue.query('campaign == \"US Common_\"').price.sum()"
   ]
  },
  {
   "cell_type": "markdown",
   "id": "64af9b47",
   "metadata": {},
   "source": [
    "Джоин датафйрема прошел корретно"
   ]
  },
  {
   "cell_type": "markdown",
   "id": "17a0e256",
   "metadata": {},
   "source": [
    "**Топ 3 кампании по прибыли**"
   ]
  },
  {
   "cell_type": "code",
   "execution_count": 45,
   "id": "1489d4fd",
   "metadata": {},
   "outputs": [
    {
     "data": {
      "text/html": [
       "<div>\n",
       "<style scoped>\n",
       "    .dataframe tbody tr th:only-of-type {\n",
       "        vertical-align: middle;\n",
       "    }\n",
       "\n",
       "    .dataframe tbody tr th {\n",
       "        vertical-align: top;\n",
       "    }\n",
       "\n",
       "    .dataframe thead th {\n",
       "        text-align: right;\n",
       "    }\n",
       "</style>\n",
       "<table border=\"1\" class=\"dataframe\">\n",
       "  <thead>\n",
       "    <tr style=\"text-align: right;\">\n",
       "      <th></th>\n",
       "      <th>campaign</th>\n",
       "      <th>price</th>\n",
       "      <th>Cost</th>\n",
       "      <th>revenue</th>\n",
       "    </tr>\n",
       "  </thead>\n",
       "  <tbody>\n",
       "    <tr>\n",
       "      <th>98</th>\n",
       "      <td>US Common_</td>\n",
       "      <td>8110.0</td>\n",
       "      <td>3487.89</td>\n",
       "      <td>4622.11</td>\n",
       "    </tr>\n",
       "    <tr>\n",
       "      <th>14</th>\n",
       "      <td>CL Common_</td>\n",
       "      <td>555.0</td>\n",
       "      <td>39.18</td>\n",
       "      <td>515.82</td>\n",
       "    </tr>\n",
       "    <tr>\n",
       "      <th>60</th>\n",
       "      <td>MX SKAG</td>\n",
       "      <td>440.0</td>\n",
       "      <td>98.57</td>\n",
       "      <td>341.43</td>\n",
       "    </tr>\n",
       "  </tbody>\n",
       "</table>\n",
       "</div>"
      ],
      "text/plain": [
       "      campaign   price     Cost  revenue\n",
       "98  US Common_  8110.0  3487.89  4622.11\n",
       "14  CL Common_   555.0    39.18   515.82\n",
       "60     MX SKAG   440.0    98.57   341.43"
      ]
     },
     "execution_count": 45,
     "metadata": {},
     "output_type": "execute_result"
    }
   ],
   "source": [
    "df_campagin_revenue\\\n",
    "    .sort_values('revenue', ascending=False)\\\n",
    "    .head(3)"
   ]
  },
  {
   "cell_type": "markdown",
   "id": "aa1984fa",
   "metadata": {},
   "source": [
    "**Топ 3 кампании по убытку**"
   ]
  },
  {
   "cell_type": "code",
   "execution_count": 46,
   "id": "84d2de00",
   "metadata": {},
   "outputs": [
    {
     "data": {
      "text/html": [
       "<div>\n",
       "<style scoped>\n",
       "    .dataframe tbody tr th:only-of-type {\n",
       "        vertical-align: middle;\n",
       "    }\n",
       "\n",
       "    .dataframe tbody tr th {\n",
       "        vertical-align: top;\n",
       "    }\n",
       "\n",
       "    .dataframe thead th {\n",
       "        text-align: right;\n",
       "    }\n",
       "</style>\n",
       "<table border=\"1\" class=\"dataframe\">\n",
       "  <thead>\n",
       "    <tr style=\"text-align: right;\">\n",
       "      <th></th>\n",
       "      <th>campaign</th>\n",
       "      <th>price</th>\n",
       "      <th>Cost</th>\n",
       "      <th>revenue</th>\n",
       "    </tr>\n",
       "  </thead>\n",
       "  <tbody>\n",
       "    <tr>\n",
       "      <th>56</th>\n",
       "      <td>LB Discovery</td>\n",
       "      <td>0.0</td>\n",
       "      <td>106.97</td>\n",
       "      <td>-106.97</td>\n",
       "    </tr>\n",
       "    <tr>\n",
       "      <th>29</th>\n",
       "      <td>FR Common_</td>\n",
       "      <td>295.0</td>\n",
       "      <td>406.30</td>\n",
       "      <td>-111.30</td>\n",
       "    </tr>\n",
       "    <tr>\n",
       "      <th>39</th>\n",
       "      <td>ID SKAG</td>\n",
       "      <td>0.0</td>\n",
       "      <td>125.60</td>\n",
       "      <td>-125.60</td>\n",
       "    </tr>\n",
       "  </tbody>\n",
       "</table>\n",
       "</div>"
      ],
      "text/plain": [
       "        campaign  price    Cost  revenue\n",
       "56  LB Discovery    0.0  106.97  -106.97\n",
       "29    FR Common_  295.0  406.30  -111.30\n",
       "39       ID SKAG    0.0  125.60  -125.60"
      ]
     },
     "execution_count": 46,
     "metadata": {},
     "output_type": "execute_result"
    }
   ],
   "source": [
    "df_campagin_revenue\\\n",
    "    .sort_values('revenue', ascending=False)\\\n",
    "    .tail(3)"
   ]
  },
  {
   "cell_type": "code",
   "execution_count": null,
   "id": "4efd4968",
   "metadata": {},
   "outputs": [],
   "source": []
  },
  {
   "cell_type": "markdown",
   "id": "e3ecbf14",
   "metadata": {},
   "source": [
    "- **В разрезе US кампании проанализировать пользователей и найти какие-либо закономерности.**"
   ]
  },
  {
   "cell_type": "markdown",
   "id": "ee7eade9",
   "metadata": {},
   "source": [
    "Одна из закономерностей выявлена выше, американские пользователи начинают массово искать погодные приложения при опасных изменениях погоды. "
   ]
  },
  {
   "cell_type": "code",
   "execution_count": 47,
   "id": "f2606062",
   "metadata": {},
   "outputs": [],
   "source": [
    "df_us = users\\\n",
    "    .query('campaign == \"US Common_\" or campaign == \"US_prod_page\" or campaign == \"US Search Tab_Return\"')"
   ]
  },
  {
   "cell_type": "code",
   "execution_count": 48,
   "id": "361b5c20",
   "metadata": {},
   "outputs": [
    {
     "data": {
      "text/html": [
       "<div>\n",
       "<style scoped>\n",
       "    .dataframe tbody tr th:only-of-type {\n",
       "        vertical-align: middle;\n",
       "    }\n",
       "\n",
       "    .dataframe tbody tr th {\n",
       "        vertical-align: top;\n",
       "    }\n",
       "\n",
       "    .dataframe thead th {\n",
       "        text-align: right;\n",
       "    }\n",
       "</style>\n",
       "<table border=\"1\" class=\"dataframe\">\n",
       "  <thead>\n",
       "    <tr style=\"text-align: right;\">\n",
       "      <th></th>\n",
       "      <th>user_id</th>\n",
       "      <th>lang</th>\n",
       "      <th>pro</th>\n",
       "      <th>product</th>\n",
       "      <th>price</th>\n",
       "      <th>sail</th>\n",
       "      <th>kite</th>\n",
       "      <th>wind</th>\n",
       "      <th>surf</th>\n",
       "      <th>fish</th>\n",
       "      <th>snow</th>\n",
       "      <th>other</th>\n",
       "      <th>source</th>\n",
       "      <th>campaign</th>\n",
       "      <th>install_date</th>\n",
       "    </tr>\n",
       "  </thead>\n",
       "  <tbody>\n",
       "    <tr>\n",
       "      <th>10</th>\n",
       "      <td>87AF7E44-0DFF-4912-B44D-4F9A32E4A7C5</td>\n",
       "      <td>en_US</td>\n",
       "      <td>1</td>\n",
       "      <td>co.windyapp.2210.pro_sub_year_100_trial7d</td>\n",
       "      <td>100.0</td>\n",
       "      <td>0</td>\n",
       "      <td>0</td>\n",
       "      <td>0</td>\n",
       "      <td>0</td>\n",
       "      <td>1</td>\n",
       "      <td>0</td>\n",
       "      <td>0</td>\n",
       "      <td>Apple Search Ads</td>\n",
       "      <td>US Common_</td>\n",
       "      <td>2023-02-01</td>\n",
       "    </tr>\n",
       "    <tr>\n",
       "      <th>11</th>\n",
       "      <td>E2ABD56C-E797-4815-898F-949D514A894A</td>\n",
       "      <td>en_US</td>\n",
       "      <td>0</td>\n",
       "      <td>NaN</td>\n",
       "      <td>NaN</td>\n",
       "      <td>0</td>\n",
       "      <td>0</td>\n",
       "      <td>0</td>\n",
       "      <td>0</td>\n",
       "      <td>0</td>\n",
       "      <td>0</td>\n",
       "      <td>1</td>\n",
       "      <td>Apple Search Ads</td>\n",
       "      <td>US Common_</td>\n",
       "      <td>2023-02-01</td>\n",
       "    </tr>\n",
       "    <tr>\n",
       "      <th>13</th>\n",
       "      <td>63909BE8-514B-41AE-93BD-2ABA79B7E15F</td>\n",
       "      <td>fr_FR</td>\n",
       "      <td>0</td>\n",
       "      <td>NaN</td>\n",
       "      <td>NaN</td>\n",
       "      <td>0</td>\n",
       "      <td>1</td>\n",
       "      <td>0</td>\n",
       "      <td>0</td>\n",
       "      <td>0</td>\n",
       "      <td>0</td>\n",
       "      <td>0</td>\n",
       "      <td>Apple Search Ads</td>\n",
       "      <td>US Common_</td>\n",
       "      <td>2023-02-01</td>\n",
       "    </tr>\n",
       "    <tr>\n",
       "      <th>19</th>\n",
       "      <td>05195C89-79B6-4CF5-911F-96A366C89DE2</td>\n",
       "      <td>en_US</td>\n",
       "      <td>0</td>\n",
       "      <td>NaN</td>\n",
       "      <td>NaN</td>\n",
       "      <td>0</td>\n",
       "      <td>0</td>\n",
       "      <td>0</td>\n",
       "      <td>0</td>\n",
       "      <td>1</td>\n",
       "      <td>0</td>\n",
       "      <td>0</td>\n",
       "      <td>Apple Search Ads</td>\n",
       "      <td>US Common_</td>\n",
       "      <td>2023-02-01</td>\n",
       "    </tr>\n",
       "    <tr>\n",
       "      <th>51</th>\n",
       "      <td>D77E108C-70A5-4865-A65F-87811E1D131D</td>\n",
       "      <td>en_US</td>\n",
       "      <td>0</td>\n",
       "      <td>NaN</td>\n",
       "      <td>NaN</td>\n",
       "      <td>0</td>\n",
       "      <td>0</td>\n",
       "      <td>0</td>\n",
       "      <td>0</td>\n",
       "      <td>0</td>\n",
       "      <td>0</td>\n",
       "      <td>0</td>\n",
       "      <td>Apple Search Ads</td>\n",
       "      <td>US Common_</td>\n",
       "      <td>2023-02-01</td>\n",
       "    </tr>\n",
       "  </tbody>\n",
       "</table>\n",
       "</div>"
      ],
      "text/plain": [
       "                                 user_id   lang  pro  \\\n",
       "10  87AF7E44-0DFF-4912-B44D-4F9A32E4A7C5  en_US    1   \n",
       "11  E2ABD56C-E797-4815-898F-949D514A894A  en_US    0   \n",
       "13  63909BE8-514B-41AE-93BD-2ABA79B7E15F  fr_FR    0   \n",
       "19  05195C89-79B6-4CF5-911F-96A366C89DE2  en_US    0   \n",
       "51  D77E108C-70A5-4865-A65F-87811E1D131D  en_US    0   \n",
       "\n",
       "                                      product  price  sail  kite  wind  surf  \\\n",
       "10  co.windyapp.2210.pro_sub_year_100_trial7d  100.0     0     0     0     0   \n",
       "11                                        NaN    NaN     0     0     0     0   \n",
       "13                                        NaN    NaN     0     1     0     0   \n",
       "19                                        NaN    NaN     0     0     0     0   \n",
       "51                                        NaN    NaN     0     0     0     0   \n",
       "\n",
       "    fish  snow  other            source    campaign install_date  \n",
       "10     1     0      0  Apple Search Ads  US Common_   2023-02-01  \n",
       "11     0     0      1  Apple Search Ads  US Common_   2023-02-01  \n",
       "13     0     0      0  Apple Search Ads  US Common_   2023-02-01  \n",
       "19     1     0      0  Apple Search Ads  US Common_   2023-02-01  \n",
       "51     0     0      0  Apple Search Ads  US Common_   2023-02-01  "
      ]
     },
     "execution_count": 48,
     "metadata": {},
     "output_type": "execute_result"
    }
   ],
   "source": [
    "df_us.head()"
   ]
  },
  {
   "cell_type": "code",
   "execution_count": 49,
   "id": "8887bf93",
   "metadata": {},
   "outputs": [
    {
     "data": {
      "text/plain": [
       "(1224, 15)"
      ]
     },
     "execution_count": 49,
     "metadata": {},
     "output_type": "execute_result"
    }
   ],
   "source": [
    "df_us.shape"
   ]
  },
  {
   "cell_type": "code",
   "execution_count": 50,
   "id": "199e1615",
   "metadata": {},
   "outputs": [
    {
     "data": {
      "text/plain": [
       "1224"
      ]
     },
     "execution_count": 50,
     "metadata": {},
     "output_type": "execute_result"
    }
   ],
   "source": [
    "df_us.user_id.nunique()"
   ]
  },
  {
   "cell_type": "code",
   "execution_count": 51,
   "id": "9c866d5f",
   "metadata": {},
   "outputs": [
    {
     "data": {
      "text/html": [
       "<div>\n",
       "<style scoped>\n",
       "    .dataframe tbody tr th:only-of-type {\n",
       "        vertical-align: middle;\n",
       "    }\n",
       "\n",
       "    .dataframe tbody tr th {\n",
       "        vertical-align: top;\n",
       "    }\n",
       "\n",
       "    .dataframe thead th {\n",
       "        text-align: right;\n",
       "    }\n",
       "</style>\n",
       "<table border=\"1\" class=\"dataframe\">\n",
       "  <thead>\n",
       "    <tr style=\"text-align: right;\">\n",
       "      <th></th>\n",
       "      <th>pro</th>\n",
       "      <th>sail</th>\n",
       "      <th>kite</th>\n",
       "      <th>surf</th>\n",
       "      <th>fish</th>\n",
       "      <th>snow</th>\n",
       "      <th>other</th>\n",
       "    </tr>\n",
       "  </thead>\n",
       "  <tbody>\n",
       "    <tr>\n",
       "      <th>0</th>\n",
       "      <td>0</td>\n",
       "      <td>199</td>\n",
       "      <td>29</td>\n",
       "      <td>95</td>\n",
       "      <td>274</td>\n",
       "      <td>68</td>\n",
       "      <td>334</td>\n",
       "    </tr>\n",
       "    <tr>\n",
       "      <th>1</th>\n",
       "      <td>1</td>\n",
       "      <td>31</td>\n",
       "      <td>0</td>\n",
       "      <td>7</td>\n",
       "      <td>34</td>\n",
       "      <td>6</td>\n",
       "      <td>14</td>\n",
       "    </tr>\n",
       "  </tbody>\n",
       "</table>\n",
       "</div>"
      ],
      "text/plain": [
       "   pro  sail  kite  surf  fish  snow  other\n",
       "0    0   199    29    95   274    68    334\n",
       "1    1    31     0     7    34     6     14"
      ]
     },
     "execution_count": 51,
     "metadata": {},
     "output_type": "execute_result"
    }
   ],
   "source": [
    "df_us_outdoor_sum = df_us\\\n",
    "    .groupby('pro', as_index=False)\\\n",
    "    [['sail', 'kite', 'surf', 'fish', 'snow', 'other']]\\\n",
    "    .agg('sum')\n",
    "df_us_outdoor_sum"
   ]
  },
  {
   "cell_type": "markdown",
   "id": "554d2d96",
   "metadata": {},
   "source": [
    "Видим что что больше всего в приложении среди американских пользователей популярна рыбалка (не учитывая **other**), а кайтеры в феврале не купили ни одной **pro** подписки."
   ]
  },
  {
   "cell_type": "code",
   "execution_count": 52,
   "id": "be62c74b",
   "metadata": {},
   "outputs": [
    {
     "data": {
      "text/plain": [
       "array(['co.windyapp.2210.pro_sub_year_100_trial7d', nan,\n",
       "       'co.windyapp.pro_forever_150',\n",
       "       'co.windyapp.pro_sub_year_60_trial7d',\n",
       "       'co.windyapp.2210.pro_sub_year_80_notrial',\n",
       "       'co.windyapp.pro_sub_year_30_notrial',\n",
       "       'co.windyapp.2110.pro_sub_year_40_notrial',\n",
       "       'co.windyapp.2110.pro_sub_year_60_trial7d',\n",
       "       'co.windyapp.2110.pro_sub_month_10_notrial',\n",
       "       'co.windyapp.pro_sub_year_50_trial7d',\n",
       "       'co.windyapp.pro_forever_180',\n",
       "       'co.windyapp.pro_sub_year_35_notrial',\n",
       "       'co.windyapp.2110.pro_sub_year_60_notrial'], dtype=object)"
      ]
     },
     "execution_count": 52,
     "metadata": {},
     "output_type": "execute_result"
    }
   ],
   "source": [
    "df_us['product'].unique()"
   ]
  },
  {
   "cell_type": "markdown",
   "id": "607c4bfe",
   "metadata": {},
   "source": [
    "Количетсво действий с подписками в разрезе по разным продуктам:"
   ]
  },
  {
   "cell_type": "code",
   "execution_count": 53,
   "id": "69a9a6e7",
   "metadata": {},
   "outputs": [
    {
     "data": {
      "text/html": [
       "<div>\n",
       "<style scoped>\n",
       "    .dataframe tbody tr th:only-of-type {\n",
       "        vertical-align: middle;\n",
       "    }\n",
       "\n",
       "    .dataframe tbody tr th {\n",
       "        vertical-align: top;\n",
       "    }\n",
       "\n",
       "    .dataframe thead th {\n",
       "        text-align: right;\n",
       "    }\n",
       "</style>\n",
       "<table border=\"1\" class=\"dataframe\">\n",
       "  <thead>\n",
       "    <tr style=\"text-align: right;\">\n",
       "      <th></th>\n",
       "      <th>product</th>\n",
       "      <th>action_count</th>\n",
       "    </tr>\n",
       "  </thead>\n",
       "  <tbody>\n",
       "    <tr>\n",
       "      <th>4</th>\n",
       "      <td>co.windyapp.2210.pro_sub_year_100_trial7d</td>\n",
       "      <td>50</td>\n",
       "    </tr>\n",
       "    <tr>\n",
       "      <th>5</th>\n",
       "      <td>co.windyapp.2210.pro_sub_year_80_notrial</td>\n",
       "      <td>19</td>\n",
       "    </tr>\n",
       "    <tr>\n",
       "      <th>7</th>\n",
       "      <td>co.windyapp.pro_forever_180</td>\n",
       "      <td>5</td>\n",
       "    </tr>\n",
       "    <tr>\n",
       "      <th>8</th>\n",
       "      <td>co.windyapp.pro_sub_year_30_notrial</td>\n",
       "      <td>3</td>\n",
       "    </tr>\n",
       "    <tr>\n",
       "      <th>1</th>\n",
       "      <td>co.windyapp.2110.pro_sub_year_40_notrial</td>\n",
       "      <td>2</td>\n",
       "    </tr>\n",
       "    <tr>\n",
       "      <th>2</th>\n",
       "      <td>co.windyapp.2110.pro_sub_year_60_notrial</td>\n",
       "      <td>2</td>\n",
       "    </tr>\n",
       "    <tr>\n",
       "      <th>9</th>\n",
       "      <td>co.windyapp.pro_sub_year_35_notrial</td>\n",
       "      <td>2</td>\n",
       "    </tr>\n",
       "    <tr>\n",
       "      <th>0</th>\n",
       "      <td>co.windyapp.2110.pro_sub_month_10_notrial</td>\n",
       "      <td>1</td>\n",
       "    </tr>\n",
       "    <tr>\n",
       "      <th>3</th>\n",
       "      <td>co.windyapp.2110.pro_sub_year_60_trial7d</td>\n",
       "      <td>1</td>\n",
       "    </tr>\n",
       "    <tr>\n",
       "      <th>6</th>\n",
       "      <td>co.windyapp.pro_forever_150</td>\n",
       "      <td>1</td>\n",
       "    </tr>\n",
       "    <tr>\n",
       "      <th>10</th>\n",
       "      <td>co.windyapp.pro_sub_year_50_trial7d</td>\n",
       "      <td>1</td>\n",
       "    </tr>\n",
       "    <tr>\n",
       "      <th>11</th>\n",
       "      <td>co.windyapp.pro_sub_year_60_trial7d</td>\n",
       "      <td>1</td>\n",
       "    </tr>\n",
       "  </tbody>\n",
       "</table>\n",
       "</div>"
      ],
      "text/plain": [
       "                                      product  action_count\n",
       "4   co.windyapp.2210.pro_sub_year_100_trial7d            50\n",
       "5    co.windyapp.2210.pro_sub_year_80_notrial            19\n",
       "7                 co.windyapp.pro_forever_180             5\n",
       "8         co.windyapp.pro_sub_year_30_notrial             3\n",
       "1    co.windyapp.2110.pro_sub_year_40_notrial             2\n",
       "2    co.windyapp.2110.pro_sub_year_60_notrial             2\n",
       "9         co.windyapp.pro_sub_year_35_notrial             2\n",
       "0   co.windyapp.2110.pro_sub_month_10_notrial             1\n",
       "3    co.windyapp.2110.pro_sub_year_60_trial7d             1\n",
       "6                 co.windyapp.pro_forever_150             1\n",
       "10        co.windyapp.pro_sub_year_50_trial7d             1\n",
       "11        co.windyapp.pro_sub_year_60_trial7d             1"
      ]
     },
     "execution_count": 53,
     "metadata": {},
     "output_type": "execute_result"
    }
   ],
   "source": [
    "df_us\\\n",
    "    .groupby('product', as_index=False)\\\n",
    "    .agg({'user_id': 'count'})\\\n",
    "    .sort_values('user_id', ascending=False)\\\n",
    "    .rename(columns={'user_id': 'action_count'})"
   ]
  },
  {
   "cell_type": "markdown",
   "id": "15d80d4a",
   "metadata": {},
   "source": [
    "**co.windyapp.2210.pro_sub_year_100_trial7d** самый часто ипользуемый продукт"
   ]
  },
  {
   "cell_type": "markdown",
   "id": "ff752ccb",
   "metadata": {},
   "source": [
    "Пользователи запустившие триальную подписку.<br/> "
   ]
  },
  {
   "cell_type": "code",
   "execution_count": 54,
   "id": "58f0eff2",
   "metadata": {},
   "outputs": [],
   "source": [
    "unique_trial_users_df = df_us.query('product == \"co.windyapp.2210.pro_sub_year_100_trial7d\" or product == \"co.windyapp.pro_sub_year_60_trial7d\" or product == \"co.windyapp.pro_sub_year_50_trial7d\" or product == \"co.windyapp.2110.pro_sub_year_60_trial7d\"').user_id.unique()"
   ]
  },
  {
   "cell_type": "code",
   "execution_count": 55,
   "id": "f515058e",
   "metadata": {},
   "outputs": [
    {
     "data": {
      "text/plain": [
       "53"
      ]
     },
     "execution_count": 55,
     "metadata": {},
     "output_type": "execute_result"
    }
   ],
   "source": [
    "unique_trial_users_df.size"
   ]
  },
  {
   "cell_type": "markdown",
   "id": "5d28d475",
   "metadata": {},
   "source": [
    "Выяснить сколько из них продили подписку **после триала** на данном датасете нет возможности"
   ]
  },
  {
   "cell_type": "markdown",
   "id": "aeb47dbc",
   "metadata": {},
   "source": [
    "Пользователи сразу оплатившие не триальную подписку"
   ]
  },
  {
   "cell_type": "code",
   "execution_count": 56,
   "id": "ece99baf",
   "metadata": {},
   "outputs": [
    {
     "data": {
      "text/plain": [
       "35"
      ]
     },
     "execution_count": 56,
     "metadata": {},
     "output_type": "execute_result"
    }
   ],
   "source": [
    "unique_notrial_users_df = df_us\\\n",
    "    .query('product == \"co.windyapp.2210.pro_sub_year_80_notrial\" or product == \"co.windyapp.pro_forever_180\" or product == \"co.windyapp.pro_sub_year_30_notrial\" or product == \"co.windyapp.2110.pro_sub_year_40_notrial\" or product == \"co.windyapp.2110.pro_sub_year_60_notrial\" or product == \"co.windyapp.pro_sub_year_35_notrial\" or product == \"co.windyapp.2110.pro_sub_month_10_notrial\" or product == \"co.windyapp.pro_forever_150\"')\\\n",
    "    .user_id.unique()\n",
    "unique_notrial_users_df.size"
   ]
  },
  {
   "cell_type": "markdown",
   "id": "d7b5dc31",
   "metadata": {},
   "source": [
    "Преобладание в покупках по языковой группе"
   ]
  },
  {
   "cell_type": "code",
   "execution_count": 57,
   "id": "53d6de3a",
   "metadata": {},
   "outputs": [
    {
     "data": {
      "text/html": [
       "<div>\n",
       "<style scoped>\n",
       "    .dataframe tbody tr th:only-of-type {\n",
       "        vertical-align: middle;\n",
       "    }\n",
       "\n",
       "    .dataframe tbody tr th {\n",
       "        vertical-align: top;\n",
       "    }\n",
       "\n",
       "    .dataframe thead th {\n",
       "        text-align: right;\n",
       "    }\n",
       "</style>\n",
       "<table border=\"1\" class=\"dataframe\">\n",
       "  <thead>\n",
       "    <tr style=\"text-align: right;\">\n",
       "      <th></th>\n",
       "      <th>lang</th>\n",
       "      <th>price</th>\n",
       "    </tr>\n",
       "  </thead>\n",
       "  <tbody>\n",
       "    <tr>\n",
       "      <th>45</th>\n",
       "      <td>en_US</td>\n",
       "      <td>180.0</td>\n",
       "    </tr>\n",
       "    <tr>\n",
       "      <th>9</th>\n",
       "      <td>en_CA</td>\n",
       "      <td>150.0</td>\n",
       "    </tr>\n",
       "    <tr>\n",
       "      <th>54</th>\n",
       "      <td>es_US</td>\n",
       "      <td>100.0</td>\n",
       "    </tr>\n",
       "    <tr>\n",
       "      <th>50</th>\n",
       "      <td>es_AR</td>\n",
       "      <td>50.0</td>\n",
       "    </tr>\n",
       "    <tr>\n",
       "      <th>37</th>\n",
       "      <td>en_PL</td>\n",
       "      <td>35.0</td>\n",
       "    </tr>\n",
       "    <tr>\n",
       "      <th>40</th>\n",
       "      <td>en_SA@calendar=gregorian</td>\n",
       "      <td>35.0</td>\n",
       "    </tr>\n",
       "    <tr>\n",
       "      <th>0</th>\n",
       "      <td>en</td>\n",
       "      <td>NaN</td>\n",
       "    </tr>\n",
       "    <tr>\n",
       "      <th>1</th>\n",
       "      <td>en_AE</td>\n",
       "      <td>NaN</td>\n",
       "    </tr>\n",
       "    <tr>\n",
       "      <th>2</th>\n",
       "      <td>en_AF@calendar=gregorian</td>\n",
       "      <td>NaN</td>\n",
       "    </tr>\n",
       "    <tr>\n",
       "      <th>3</th>\n",
       "      <td>en_AL</td>\n",
       "      <td>NaN</td>\n",
       "    </tr>\n",
       "  </tbody>\n",
       "</table>\n",
       "</div>"
      ],
      "text/plain": [
       "                        lang  price\n",
       "45                     en_US  180.0\n",
       "9                      en_CA  150.0\n",
       "54                     es_US  100.0\n",
       "50                     es_AR   50.0\n",
       "37                     en_PL   35.0\n",
       "40  en_SA@calendar=gregorian   35.0\n",
       "0                         en    NaN\n",
       "1                      en_AE    NaN\n",
       "2   en_AF@calendar=gregorian    NaN\n",
       "3                      en_AL    NaN"
      ]
     },
     "execution_count": 57,
     "metadata": {},
     "output_type": "execute_result"
    }
   ],
   "source": [
    "df_us\\\n",
    "    .groupby('lang', as_index=False)\\\n",
    "    .agg({'price': 'max'})\\\n",
    "    .sort_values('price', ascending=False).head(10)"
   ]
  },
  {
   "cell_type": "markdown",
   "id": "d52d9f8a",
   "metadata": {},
   "source": [
    "Количество пользователей включвшие какую-либо **pro** подписку по дате установки"
   ]
  },
  {
   "cell_type": "code",
   "execution_count": 58,
   "id": "715c0f73",
   "metadata": {},
   "outputs": [
    {
     "data": {
      "text/html": [
       "<div>\n",
       "<style scoped>\n",
       "    .dataframe tbody tr th:only-of-type {\n",
       "        vertical-align: middle;\n",
       "    }\n",
       "\n",
       "    .dataframe tbody tr th {\n",
       "        vertical-align: top;\n",
       "    }\n",
       "\n",
       "    .dataframe thead th {\n",
       "        text-align: right;\n",
       "    }\n",
       "</style>\n",
       "<table border=\"1\" class=\"dataframe\">\n",
       "  <thead>\n",
       "    <tr style=\"text-align: right;\">\n",
       "      <th></th>\n",
       "      <th>product</th>\n",
       "      <th>install_date</th>\n",
       "      <th>user_id</th>\n",
       "    </tr>\n",
       "  </thead>\n",
       "  <tbody>\n",
       "    <tr>\n",
       "      <th>0</th>\n",
       "      <td>co.windyapp.2110.pro_sub_month_10_notrial</td>\n",
       "      <td>2023-02-09</td>\n",
       "      <td>1</td>\n",
       "    </tr>\n",
       "    <tr>\n",
       "      <th>1</th>\n",
       "      <td>co.windyapp.2110.pro_sub_year_40_notrial</td>\n",
       "      <td>2023-02-05</td>\n",
       "      <td>1</td>\n",
       "    </tr>\n",
       "    <tr>\n",
       "      <th>2</th>\n",
       "      <td>co.windyapp.2110.pro_sub_year_40_notrial</td>\n",
       "      <td>2023-02-20</td>\n",
       "      <td>1</td>\n",
       "    </tr>\n",
       "    <tr>\n",
       "      <th>3</th>\n",
       "      <td>co.windyapp.2110.pro_sub_year_60_notrial</td>\n",
       "      <td>2023-02-16</td>\n",
       "      <td>1</td>\n",
       "    </tr>\n",
       "    <tr>\n",
       "      <th>4</th>\n",
       "      <td>co.windyapp.2110.pro_sub_year_60_notrial</td>\n",
       "      <td>2023-02-26</td>\n",
       "      <td>1</td>\n",
       "    </tr>\n",
       "    <tr>\n",
       "      <th>5</th>\n",
       "      <td>co.windyapp.2110.pro_sub_year_60_trial7d</td>\n",
       "      <td>2023-02-06</td>\n",
       "      <td>1</td>\n",
       "    </tr>\n",
       "    <tr>\n",
       "      <th>6</th>\n",
       "      <td>co.windyapp.2210.pro_sub_year_100_trial7d</td>\n",
       "      <td>2023-02-01</td>\n",
       "      <td>2</td>\n",
       "    </tr>\n",
       "    <tr>\n",
       "      <th>7</th>\n",
       "      <td>co.windyapp.2210.pro_sub_year_100_trial7d</td>\n",
       "      <td>2023-02-02</td>\n",
       "      <td>2</td>\n",
       "    </tr>\n",
       "    <tr>\n",
       "      <th>8</th>\n",
       "      <td>co.windyapp.2210.pro_sub_year_100_trial7d</td>\n",
       "      <td>2023-02-04</td>\n",
       "      <td>2</td>\n",
       "    </tr>\n",
       "    <tr>\n",
       "      <th>9</th>\n",
       "      <td>co.windyapp.2210.pro_sub_year_100_trial7d</td>\n",
       "      <td>2023-02-06</td>\n",
       "      <td>1</td>\n",
       "    </tr>\n",
       "    <tr>\n",
       "      <th>10</th>\n",
       "      <td>co.windyapp.2210.pro_sub_year_100_trial7d</td>\n",
       "      <td>2023-02-07</td>\n",
       "      <td>1</td>\n",
       "    </tr>\n",
       "    <tr>\n",
       "      <th>11</th>\n",
       "      <td>co.windyapp.2210.pro_sub_year_100_trial7d</td>\n",
       "      <td>2023-02-08</td>\n",
       "      <td>3</td>\n",
       "    </tr>\n",
       "    <tr>\n",
       "      <th>12</th>\n",
       "      <td>co.windyapp.2210.pro_sub_year_100_trial7d</td>\n",
       "      <td>2023-02-09</td>\n",
       "      <td>1</td>\n",
       "    </tr>\n",
       "    <tr>\n",
       "      <th>13</th>\n",
       "      <td>co.windyapp.2210.pro_sub_year_100_trial7d</td>\n",
       "      <td>2023-02-10</td>\n",
       "      <td>1</td>\n",
       "    </tr>\n",
       "    <tr>\n",
       "      <th>14</th>\n",
       "      <td>co.windyapp.2210.pro_sub_year_100_trial7d</td>\n",
       "      <td>2023-02-11</td>\n",
       "      <td>1</td>\n",
       "    </tr>\n",
       "    <tr>\n",
       "      <th>15</th>\n",
       "      <td>co.windyapp.2210.pro_sub_year_100_trial7d</td>\n",
       "      <td>2023-02-12</td>\n",
       "      <td>3</td>\n",
       "    </tr>\n",
       "    <tr>\n",
       "      <th>16</th>\n",
       "      <td>co.windyapp.2210.pro_sub_year_100_trial7d</td>\n",
       "      <td>2023-02-13</td>\n",
       "      <td>3</td>\n",
       "    </tr>\n",
       "    <tr>\n",
       "      <th>17</th>\n",
       "      <td>co.windyapp.2210.pro_sub_year_100_trial7d</td>\n",
       "      <td>2023-02-15</td>\n",
       "      <td>4</td>\n",
       "    </tr>\n",
       "    <tr>\n",
       "      <th>18</th>\n",
       "      <td>co.windyapp.2210.pro_sub_year_100_trial7d</td>\n",
       "      <td>2023-02-17</td>\n",
       "      <td>4</td>\n",
       "    </tr>\n",
       "    <tr>\n",
       "      <th>19</th>\n",
       "      <td>co.windyapp.2210.pro_sub_year_100_trial7d</td>\n",
       "      <td>2023-02-18</td>\n",
       "      <td>1</td>\n",
       "    </tr>\n",
       "    <tr>\n",
       "      <th>20</th>\n",
       "      <td>co.windyapp.2210.pro_sub_year_100_trial7d</td>\n",
       "      <td>2023-02-19</td>\n",
       "      <td>1</td>\n",
       "    </tr>\n",
       "    <tr>\n",
       "      <th>21</th>\n",
       "      <td>co.windyapp.2210.pro_sub_year_100_trial7d</td>\n",
       "      <td>2023-02-20</td>\n",
       "      <td>4</td>\n",
       "    </tr>\n",
       "    <tr>\n",
       "      <th>22</th>\n",
       "      <td>co.windyapp.2210.pro_sub_year_100_trial7d</td>\n",
       "      <td>2023-02-21</td>\n",
       "      <td>1</td>\n",
       "    </tr>\n",
       "    <tr>\n",
       "      <th>23</th>\n",
       "      <td>co.windyapp.2210.pro_sub_year_100_trial7d</td>\n",
       "      <td>2023-02-22</td>\n",
       "      <td>2</td>\n",
       "    </tr>\n",
       "    <tr>\n",
       "      <th>24</th>\n",
       "      <td>co.windyapp.2210.pro_sub_year_100_trial7d</td>\n",
       "      <td>2023-02-23</td>\n",
       "      <td>1</td>\n",
       "    </tr>\n",
       "    <tr>\n",
       "      <th>25</th>\n",
       "      <td>co.windyapp.2210.pro_sub_year_100_trial7d</td>\n",
       "      <td>2023-02-24</td>\n",
       "      <td>2</td>\n",
       "    </tr>\n",
       "    <tr>\n",
       "      <th>26</th>\n",
       "      <td>co.windyapp.2210.pro_sub_year_100_trial7d</td>\n",
       "      <td>2023-02-25</td>\n",
       "      <td>2</td>\n",
       "    </tr>\n",
       "    <tr>\n",
       "      <th>27</th>\n",
       "      <td>co.windyapp.2210.pro_sub_year_100_trial7d</td>\n",
       "      <td>2023-02-26</td>\n",
       "      <td>4</td>\n",
       "    </tr>\n",
       "    <tr>\n",
       "      <th>28</th>\n",
       "      <td>co.windyapp.2210.pro_sub_year_100_trial7d</td>\n",
       "      <td>2023-02-27</td>\n",
       "      <td>1</td>\n",
       "    </tr>\n",
       "    <tr>\n",
       "      <th>29</th>\n",
       "      <td>co.windyapp.2210.pro_sub_year_100_trial7d</td>\n",
       "      <td>2023-02-28</td>\n",
       "      <td>3</td>\n",
       "    </tr>\n",
       "    <tr>\n",
       "      <th>30</th>\n",
       "      <td>co.windyapp.2210.pro_sub_year_80_notrial</td>\n",
       "      <td>2023-02-01</td>\n",
       "      <td>1</td>\n",
       "    </tr>\n",
       "    <tr>\n",
       "      <th>31</th>\n",
       "      <td>co.windyapp.2210.pro_sub_year_80_notrial</td>\n",
       "      <td>2023-02-05</td>\n",
       "      <td>1</td>\n",
       "    </tr>\n",
       "    <tr>\n",
       "      <th>32</th>\n",
       "      <td>co.windyapp.2210.pro_sub_year_80_notrial</td>\n",
       "      <td>2023-02-10</td>\n",
       "      <td>1</td>\n",
       "    </tr>\n",
       "    <tr>\n",
       "      <th>33</th>\n",
       "      <td>co.windyapp.2210.pro_sub_year_80_notrial</td>\n",
       "      <td>2023-02-11</td>\n",
       "      <td>1</td>\n",
       "    </tr>\n",
       "    <tr>\n",
       "      <th>34</th>\n",
       "      <td>co.windyapp.2210.pro_sub_year_80_notrial</td>\n",
       "      <td>2023-02-12</td>\n",
       "      <td>1</td>\n",
       "    </tr>\n",
       "    <tr>\n",
       "      <th>35</th>\n",
       "      <td>co.windyapp.2210.pro_sub_year_80_notrial</td>\n",
       "      <td>2023-02-14</td>\n",
       "      <td>3</td>\n",
       "    </tr>\n",
       "    <tr>\n",
       "      <th>36</th>\n",
       "      <td>co.windyapp.2210.pro_sub_year_80_notrial</td>\n",
       "      <td>2023-02-17</td>\n",
       "      <td>1</td>\n",
       "    </tr>\n",
       "    <tr>\n",
       "      <th>37</th>\n",
       "      <td>co.windyapp.2210.pro_sub_year_80_notrial</td>\n",
       "      <td>2023-02-18</td>\n",
       "      <td>1</td>\n",
       "    </tr>\n",
       "    <tr>\n",
       "      <th>38</th>\n",
       "      <td>co.windyapp.2210.pro_sub_year_80_notrial</td>\n",
       "      <td>2023-02-21</td>\n",
       "      <td>2</td>\n",
       "    </tr>\n",
       "    <tr>\n",
       "      <th>39</th>\n",
       "      <td>co.windyapp.2210.pro_sub_year_80_notrial</td>\n",
       "      <td>2023-02-22</td>\n",
       "      <td>1</td>\n",
       "    </tr>\n",
       "    <tr>\n",
       "      <th>40</th>\n",
       "      <td>co.windyapp.2210.pro_sub_year_80_notrial</td>\n",
       "      <td>2023-02-23</td>\n",
       "      <td>1</td>\n",
       "    </tr>\n",
       "    <tr>\n",
       "      <th>41</th>\n",
       "      <td>co.windyapp.2210.pro_sub_year_80_notrial</td>\n",
       "      <td>2023-02-24</td>\n",
       "      <td>2</td>\n",
       "    </tr>\n",
       "    <tr>\n",
       "      <th>42</th>\n",
       "      <td>co.windyapp.2210.pro_sub_year_80_notrial</td>\n",
       "      <td>2023-02-25</td>\n",
       "      <td>1</td>\n",
       "    </tr>\n",
       "    <tr>\n",
       "      <th>43</th>\n",
       "      <td>co.windyapp.2210.pro_sub_year_80_notrial</td>\n",
       "      <td>2023-02-26</td>\n",
       "      <td>1</td>\n",
       "    </tr>\n",
       "    <tr>\n",
       "      <th>44</th>\n",
       "      <td>co.windyapp.2210.pro_sub_year_80_notrial</td>\n",
       "      <td>2023-02-27</td>\n",
       "      <td>1</td>\n",
       "    </tr>\n",
       "    <tr>\n",
       "      <th>45</th>\n",
       "      <td>co.windyapp.pro_forever_150</td>\n",
       "      <td>2023-02-01</td>\n",
       "      <td>1</td>\n",
       "    </tr>\n",
       "    <tr>\n",
       "      <th>46</th>\n",
       "      <td>co.windyapp.pro_forever_180</td>\n",
       "      <td>2023-02-12</td>\n",
       "      <td>1</td>\n",
       "    </tr>\n",
       "    <tr>\n",
       "      <th>47</th>\n",
       "      <td>co.windyapp.pro_forever_180</td>\n",
       "      <td>2023-02-13</td>\n",
       "      <td>1</td>\n",
       "    </tr>\n",
       "    <tr>\n",
       "      <th>48</th>\n",
       "      <td>co.windyapp.pro_forever_180</td>\n",
       "      <td>2023-02-20</td>\n",
       "      <td>1</td>\n",
       "    </tr>\n",
       "    <tr>\n",
       "      <th>49</th>\n",
       "      <td>co.windyapp.pro_forever_180</td>\n",
       "      <td>2023-02-21</td>\n",
       "      <td>1</td>\n",
       "    </tr>\n",
       "    <tr>\n",
       "      <th>50</th>\n",
       "      <td>co.windyapp.pro_forever_180</td>\n",
       "      <td>2023-02-23</td>\n",
       "      <td>1</td>\n",
       "    </tr>\n",
       "    <tr>\n",
       "      <th>51</th>\n",
       "      <td>co.windyapp.pro_sub_year_30_notrial</td>\n",
       "      <td>2023-02-04</td>\n",
       "      <td>1</td>\n",
       "    </tr>\n",
       "    <tr>\n",
       "      <th>52</th>\n",
       "      <td>co.windyapp.pro_sub_year_30_notrial</td>\n",
       "      <td>2023-02-13</td>\n",
       "      <td>1</td>\n",
       "    </tr>\n",
       "    <tr>\n",
       "      <th>53</th>\n",
       "      <td>co.windyapp.pro_sub_year_30_notrial</td>\n",
       "      <td>2023-02-23</td>\n",
       "      <td>1</td>\n",
       "    </tr>\n",
       "    <tr>\n",
       "      <th>54</th>\n",
       "      <td>co.windyapp.pro_sub_year_35_notrial</td>\n",
       "      <td>2023-02-15</td>\n",
       "      <td>1</td>\n",
       "    </tr>\n",
       "    <tr>\n",
       "      <th>55</th>\n",
       "      <td>co.windyapp.pro_sub_year_35_notrial</td>\n",
       "      <td>2023-02-27</td>\n",
       "      <td>1</td>\n",
       "    </tr>\n",
       "    <tr>\n",
       "      <th>56</th>\n",
       "      <td>co.windyapp.pro_sub_year_50_trial7d</td>\n",
       "      <td>2023-02-12</td>\n",
       "      <td>1</td>\n",
       "    </tr>\n",
       "    <tr>\n",
       "      <th>57</th>\n",
       "      <td>co.windyapp.pro_sub_year_60_trial7d</td>\n",
       "      <td>2023-02-01</td>\n",
       "      <td>1</td>\n",
       "    </tr>\n",
       "  </tbody>\n",
       "</table>\n",
       "</div>"
      ],
      "text/plain": [
       "                                      product install_date  user_id\n",
       "0   co.windyapp.2110.pro_sub_month_10_notrial   2023-02-09        1\n",
       "1    co.windyapp.2110.pro_sub_year_40_notrial   2023-02-05        1\n",
       "2    co.windyapp.2110.pro_sub_year_40_notrial   2023-02-20        1\n",
       "3    co.windyapp.2110.pro_sub_year_60_notrial   2023-02-16        1\n",
       "4    co.windyapp.2110.pro_sub_year_60_notrial   2023-02-26        1\n",
       "5    co.windyapp.2110.pro_sub_year_60_trial7d   2023-02-06        1\n",
       "6   co.windyapp.2210.pro_sub_year_100_trial7d   2023-02-01        2\n",
       "7   co.windyapp.2210.pro_sub_year_100_trial7d   2023-02-02        2\n",
       "8   co.windyapp.2210.pro_sub_year_100_trial7d   2023-02-04        2\n",
       "9   co.windyapp.2210.pro_sub_year_100_trial7d   2023-02-06        1\n",
       "10  co.windyapp.2210.pro_sub_year_100_trial7d   2023-02-07        1\n",
       "11  co.windyapp.2210.pro_sub_year_100_trial7d   2023-02-08        3\n",
       "12  co.windyapp.2210.pro_sub_year_100_trial7d   2023-02-09        1\n",
       "13  co.windyapp.2210.pro_sub_year_100_trial7d   2023-02-10        1\n",
       "14  co.windyapp.2210.pro_sub_year_100_trial7d   2023-02-11        1\n",
       "15  co.windyapp.2210.pro_sub_year_100_trial7d   2023-02-12        3\n",
       "16  co.windyapp.2210.pro_sub_year_100_trial7d   2023-02-13        3\n",
       "17  co.windyapp.2210.pro_sub_year_100_trial7d   2023-02-15        4\n",
       "18  co.windyapp.2210.pro_sub_year_100_trial7d   2023-02-17        4\n",
       "19  co.windyapp.2210.pro_sub_year_100_trial7d   2023-02-18        1\n",
       "20  co.windyapp.2210.pro_sub_year_100_trial7d   2023-02-19        1\n",
       "21  co.windyapp.2210.pro_sub_year_100_trial7d   2023-02-20        4\n",
       "22  co.windyapp.2210.pro_sub_year_100_trial7d   2023-02-21        1\n",
       "23  co.windyapp.2210.pro_sub_year_100_trial7d   2023-02-22        2\n",
       "24  co.windyapp.2210.pro_sub_year_100_trial7d   2023-02-23        1\n",
       "25  co.windyapp.2210.pro_sub_year_100_trial7d   2023-02-24        2\n",
       "26  co.windyapp.2210.pro_sub_year_100_trial7d   2023-02-25        2\n",
       "27  co.windyapp.2210.pro_sub_year_100_trial7d   2023-02-26        4\n",
       "28  co.windyapp.2210.pro_sub_year_100_trial7d   2023-02-27        1\n",
       "29  co.windyapp.2210.pro_sub_year_100_trial7d   2023-02-28        3\n",
       "30   co.windyapp.2210.pro_sub_year_80_notrial   2023-02-01        1\n",
       "31   co.windyapp.2210.pro_sub_year_80_notrial   2023-02-05        1\n",
       "32   co.windyapp.2210.pro_sub_year_80_notrial   2023-02-10        1\n",
       "33   co.windyapp.2210.pro_sub_year_80_notrial   2023-02-11        1\n",
       "34   co.windyapp.2210.pro_sub_year_80_notrial   2023-02-12        1\n",
       "35   co.windyapp.2210.pro_sub_year_80_notrial   2023-02-14        3\n",
       "36   co.windyapp.2210.pro_sub_year_80_notrial   2023-02-17        1\n",
       "37   co.windyapp.2210.pro_sub_year_80_notrial   2023-02-18        1\n",
       "38   co.windyapp.2210.pro_sub_year_80_notrial   2023-02-21        2\n",
       "39   co.windyapp.2210.pro_sub_year_80_notrial   2023-02-22        1\n",
       "40   co.windyapp.2210.pro_sub_year_80_notrial   2023-02-23        1\n",
       "41   co.windyapp.2210.pro_sub_year_80_notrial   2023-02-24        2\n",
       "42   co.windyapp.2210.pro_sub_year_80_notrial   2023-02-25        1\n",
       "43   co.windyapp.2210.pro_sub_year_80_notrial   2023-02-26        1\n",
       "44   co.windyapp.2210.pro_sub_year_80_notrial   2023-02-27        1\n",
       "45                co.windyapp.pro_forever_150   2023-02-01        1\n",
       "46                co.windyapp.pro_forever_180   2023-02-12        1\n",
       "47                co.windyapp.pro_forever_180   2023-02-13        1\n",
       "48                co.windyapp.pro_forever_180   2023-02-20        1\n",
       "49                co.windyapp.pro_forever_180   2023-02-21        1\n",
       "50                co.windyapp.pro_forever_180   2023-02-23        1\n",
       "51        co.windyapp.pro_sub_year_30_notrial   2023-02-04        1\n",
       "52        co.windyapp.pro_sub_year_30_notrial   2023-02-13        1\n",
       "53        co.windyapp.pro_sub_year_30_notrial   2023-02-23        1\n",
       "54        co.windyapp.pro_sub_year_35_notrial   2023-02-15        1\n",
       "55        co.windyapp.pro_sub_year_35_notrial   2023-02-27        1\n",
       "56        co.windyapp.pro_sub_year_50_trial7d   2023-02-12        1\n",
       "57        co.windyapp.pro_sub_year_60_trial7d   2023-02-01        1"
      ]
     },
     "execution_count": 58,
     "metadata": {},
     "output_type": "execute_result"
    }
   ],
   "source": [
    "df_us\\\n",
    "    .groupby(['product', 'install_date'], as_index=False)\\\n",
    "    .agg({'user_id': 'count'}).reset_index(drop=True)"
   ]
  },
  {
   "cell_type": "markdown",
   "id": "4106cdc6",
   "metadata": {},
   "source": [
    "Количество установок по дате"
   ]
  },
  {
   "cell_type": "code",
   "execution_count": 73,
   "id": "b3800ee1",
   "metadata": {},
   "outputs": [
    {
     "data": {
      "text/html": [
       "<div>\n",
       "<style scoped>\n",
       "    .dataframe tbody tr th:only-of-type {\n",
       "        vertical-align: middle;\n",
       "    }\n",
       "\n",
       "    .dataframe tbody tr th {\n",
       "        vertical-align: top;\n",
       "    }\n",
       "\n",
       "    .dataframe thead th {\n",
       "        text-align: right;\n",
       "    }\n",
       "</style>\n",
       "<table border=\"1\" class=\"dataframe\">\n",
       "  <thead>\n",
       "    <tr style=\"text-align: right;\">\n",
       "      <th></th>\n",
       "      <th>install_date</th>\n",
       "      <th>user_id</th>\n",
       "    </tr>\n",
       "  </thead>\n",
       "  <tbody>\n",
       "    <tr>\n",
       "      <th>22</th>\n",
       "      <td>2023-02-23</td>\n",
       "      <td>70</td>\n",
       "    </tr>\n",
       "    <tr>\n",
       "      <th>20</th>\n",
       "      <td>2023-02-21</td>\n",
       "      <td>69</td>\n",
       "    </tr>\n",
       "    <tr>\n",
       "      <th>21</th>\n",
       "      <td>2023-02-22</td>\n",
       "      <td>59</td>\n",
       "    </tr>\n",
       "    <tr>\n",
       "      <th>25</th>\n",
       "      <td>2023-02-26</td>\n",
       "      <td>56</td>\n",
       "    </tr>\n",
       "    <tr>\n",
       "      <th>16</th>\n",
       "      <td>2023-02-17</td>\n",
       "      <td>54</td>\n",
       "    </tr>\n",
       "    <tr>\n",
       "      <th>17</th>\n",
       "      <td>2023-02-18</td>\n",
       "      <td>53</td>\n",
       "    </tr>\n",
       "    <tr>\n",
       "      <th>11</th>\n",
       "      <td>2023-02-12</td>\n",
       "      <td>50</td>\n",
       "    </tr>\n",
       "    <tr>\n",
       "      <th>8</th>\n",
       "      <td>2023-02-09</td>\n",
       "      <td>48</td>\n",
       "    </tr>\n",
       "    <tr>\n",
       "      <th>19</th>\n",
       "      <td>2023-02-20</td>\n",
       "      <td>47</td>\n",
       "    </tr>\n",
       "    <tr>\n",
       "      <th>24</th>\n",
       "      <td>2023-02-25</td>\n",
       "      <td>46</td>\n",
       "    </tr>\n",
       "    <tr>\n",
       "      <th>26</th>\n",
       "      <td>2023-02-27</td>\n",
       "      <td>45</td>\n",
       "    </tr>\n",
       "    <tr>\n",
       "      <th>23</th>\n",
       "      <td>2023-02-24</td>\n",
       "      <td>45</td>\n",
       "    </tr>\n",
       "    <tr>\n",
       "      <th>15</th>\n",
       "      <td>2023-02-16</td>\n",
       "      <td>44</td>\n",
       "    </tr>\n",
       "    <tr>\n",
       "      <th>14</th>\n",
       "      <td>2023-02-15</td>\n",
       "      <td>44</td>\n",
       "    </tr>\n",
       "    <tr>\n",
       "      <th>4</th>\n",
       "      <td>2023-02-05</td>\n",
       "      <td>43</td>\n",
       "    </tr>\n",
       "    <tr>\n",
       "      <th>5</th>\n",
       "      <td>2023-02-06</td>\n",
       "      <td>42</td>\n",
       "    </tr>\n",
       "    <tr>\n",
       "      <th>13</th>\n",
       "      <td>2023-02-14</td>\n",
       "      <td>41</td>\n",
       "    </tr>\n",
       "    <tr>\n",
       "      <th>18</th>\n",
       "      <td>2023-02-19</td>\n",
       "      <td>41</td>\n",
       "    </tr>\n",
       "    <tr>\n",
       "      <th>9</th>\n",
       "      <td>2023-02-10</td>\n",
       "      <td>40</td>\n",
       "    </tr>\n",
       "    <tr>\n",
       "      <th>10</th>\n",
       "      <td>2023-02-11</td>\n",
       "      <td>40</td>\n",
       "    </tr>\n",
       "    <tr>\n",
       "      <th>0</th>\n",
       "      <td>2023-02-01</td>\n",
       "      <td>39</td>\n",
       "    </tr>\n",
       "    <tr>\n",
       "      <th>27</th>\n",
       "      <td>2023-02-28</td>\n",
       "      <td>35</td>\n",
       "    </tr>\n",
       "    <tr>\n",
       "      <th>12</th>\n",
       "      <td>2023-02-13</td>\n",
       "      <td>34</td>\n",
       "    </tr>\n",
       "    <tr>\n",
       "      <th>1</th>\n",
       "      <td>2023-02-02</td>\n",
       "      <td>33</td>\n",
       "    </tr>\n",
       "    <tr>\n",
       "      <th>7</th>\n",
       "      <td>2023-02-08</td>\n",
       "      <td>33</td>\n",
       "    </tr>\n",
       "    <tr>\n",
       "      <th>3</th>\n",
       "      <td>2023-02-04</td>\n",
       "      <td>33</td>\n",
       "    </tr>\n",
       "    <tr>\n",
       "      <th>2</th>\n",
       "      <td>2023-02-03</td>\n",
       "      <td>24</td>\n",
       "    </tr>\n",
       "    <tr>\n",
       "      <th>6</th>\n",
       "      <td>2023-02-07</td>\n",
       "      <td>16</td>\n",
       "    </tr>\n",
       "  </tbody>\n",
       "</table>\n",
       "</div>"
      ],
      "text/plain": [
       "   install_date  user_id\n",
       "22   2023-02-23       70\n",
       "20   2023-02-21       69\n",
       "21   2023-02-22       59\n",
       "25   2023-02-26       56\n",
       "16   2023-02-17       54\n",
       "17   2023-02-18       53\n",
       "11   2023-02-12       50\n",
       "8    2023-02-09       48\n",
       "19   2023-02-20       47\n",
       "24   2023-02-25       46\n",
       "26   2023-02-27       45\n",
       "23   2023-02-24       45\n",
       "15   2023-02-16       44\n",
       "14   2023-02-15       44\n",
       "4    2023-02-05       43\n",
       "5    2023-02-06       42\n",
       "13   2023-02-14       41\n",
       "18   2023-02-19       41\n",
       "9    2023-02-10       40\n",
       "10   2023-02-11       40\n",
       "0    2023-02-01       39\n",
       "27   2023-02-28       35\n",
       "12   2023-02-13       34\n",
       "1    2023-02-02       33\n",
       "7    2023-02-08       33\n",
       "3    2023-02-04       33\n",
       "2    2023-02-03       24\n",
       "6    2023-02-07       16"
      ]
     },
     "execution_count": 73,
     "metadata": {},
     "output_type": "execute_result"
    }
   ],
   "source": [
    "df_us\\\n",
    "    .groupby('install_date', as_index=False)\\\n",
    "    .agg({'user_id': 'count'})\\\n",
    "    .sort_values('user_id', ascending=False)"
   ]
  },
  {
   "cell_type": "markdown",
   "id": "35a07f4d",
   "metadata": {},
   "source": [
    "Тут снова видим что в даты неспокойной погоды в США пользователи чаще устанавливали приложение, покупали подписку либо использовали триал"
   ]
  },
  {
   "cell_type": "markdown",
   "id": "03ba89f1",
   "metadata": {},
   "source": [
    "Прибыль с покупок пользователей по дате установки"
   ]
  },
  {
   "cell_type": "code",
   "execution_count": 60,
   "id": "fa4fbf20",
   "metadata": {},
   "outputs": [
    {
     "data": {
      "text/html": [
       "<div>\n",
       "<style scoped>\n",
       "    .dataframe tbody tr th:only-of-type {\n",
       "        vertical-align: middle;\n",
       "    }\n",
       "\n",
       "    .dataframe tbody tr th {\n",
       "        vertical-align: top;\n",
       "    }\n",
       "\n",
       "    .dataframe thead th {\n",
       "        text-align: right;\n",
       "    }\n",
       "</style>\n",
       "<table border=\"1\" class=\"dataframe\">\n",
       "  <thead>\n",
       "    <tr style=\"text-align: right;\">\n",
       "      <th></th>\n",
       "      <th>install_date</th>\n",
       "      <th>price</th>\n",
       "    </tr>\n",
       "  </thead>\n",
       "  <tbody>\n",
       "    <tr>\n",
       "      <th>0</th>\n",
       "      <td>2023-02-01</td>\n",
       "      <td>260.0</td>\n",
       "    </tr>\n",
       "    <tr>\n",
       "      <th>1</th>\n",
       "      <td>2023-02-02</td>\n",
       "      <td>200.0</td>\n",
       "    </tr>\n",
       "    <tr>\n",
       "      <th>2</th>\n",
       "      <td>2023-02-04</td>\n",
       "      <td>200.0</td>\n",
       "    </tr>\n",
       "    <tr>\n",
       "      <th>3</th>\n",
       "      <td>2023-02-06</td>\n",
       "      <td>100.0</td>\n",
       "    </tr>\n",
       "    <tr>\n",
       "      <th>4</th>\n",
       "      <td>2023-02-07</td>\n",
       "      <td>100.0</td>\n",
       "    </tr>\n",
       "    <tr>\n",
       "      <th>5</th>\n",
       "      <td>2023-02-08</td>\n",
       "      <td>300.0</td>\n",
       "    </tr>\n",
       "    <tr>\n",
       "      <th>6</th>\n",
       "      <td>2023-02-09</td>\n",
       "      <td>100.0</td>\n",
       "    </tr>\n",
       "    <tr>\n",
       "      <th>7</th>\n",
       "      <td>2023-02-10</td>\n",
       "      <td>100.0</td>\n",
       "    </tr>\n",
       "    <tr>\n",
       "      <th>8</th>\n",
       "      <td>2023-02-11</td>\n",
       "      <td>100.0</td>\n",
       "    </tr>\n",
       "    <tr>\n",
       "      <th>9</th>\n",
       "      <td>2023-02-12</td>\n",
       "      <td>350.0</td>\n",
       "    </tr>\n",
       "    <tr>\n",
       "      <th>10</th>\n",
       "      <td>2023-02-13</td>\n",
       "      <td>300.0</td>\n",
       "    </tr>\n",
       "    <tr>\n",
       "      <th>11</th>\n",
       "      <td>2023-02-15</td>\n",
       "      <td>400.0</td>\n",
       "    </tr>\n",
       "    <tr>\n",
       "      <th>12</th>\n",
       "      <td>2023-02-17</td>\n",
       "      <td>400.0</td>\n",
       "    </tr>\n",
       "    <tr>\n",
       "      <th>13</th>\n",
       "      <td>2023-02-18</td>\n",
       "      <td>100.0</td>\n",
       "    </tr>\n",
       "    <tr>\n",
       "      <th>14</th>\n",
       "      <td>2023-02-19</td>\n",
       "      <td>100.0</td>\n",
       "    </tr>\n",
       "    <tr>\n",
       "      <th>15</th>\n",
       "      <td>2023-02-20</td>\n",
       "      <td>400.0</td>\n",
       "    </tr>\n",
       "    <tr>\n",
       "      <th>16</th>\n",
       "      <td>2023-02-21</td>\n",
       "      <td>100.0</td>\n",
       "    </tr>\n",
       "    <tr>\n",
       "      <th>17</th>\n",
       "      <td>2023-02-22</td>\n",
       "      <td>200.0</td>\n",
       "    </tr>\n",
       "    <tr>\n",
       "      <th>18</th>\n",
       "      <td>2023-02-23</td>\n",
       "      <td>100.0</td>\n",
       "    </tr>\n",
       "    <tr>\n",
       "      <th>19</th>\n",
       "      <td>2023-02-24</td>\n",
       "      <td>200.0</td>\n",
       "    </tr>\n",
       "    <tr>\n",
       "      <th>20</th>\n",
       "      <td>2023-02-25</td>\n",
       "      <td>200.0</td>\n",
       "    </tr>\n",
       "    <tr>\n",
       "      <th>21</th>\n",
       "      <td>2023-02-26</td>\n",
       "      <td>400.0</td>\n",
       "    </tr>\n",
       "    <tr>\n",
       "      <th>22</th>\n",
       "      <td>2023-02-27</td>\n",
       "      <td>100.0</td>\n",
       "    </tr>\n",
       "    <tr>\n",
       "      <th>23</th>\n",
       "      <td>2023-02-28</td>\n",
       "      <td>300.0</td>\n",
       "    </tr>\n",
       "  </tbody>\n",
       "</table>\n",
       "</div>"
      ],
      "text/plain": [
       "   install_date  price\n",
       "0    2023-02-01  260.0\n",
       "1    2023-02-02  200.0\n",
       "2    2023-02-04  200.0\n",
       "3    2023-02-06  100.0\n",
       "4    2023-02-07  100.0\n",
       "5    2023-02-08  300.0\n",
       "6    2023-02-09  100.0\n",
       "7    2023-02-10  100.0\n",
       "8    2023-02-11  100.0\n",
       "9    2023-02-12  350.0\n",
       "10   2023-02-13  300.0\n",
       "11   2023-02-15  400.0\n",
       "12   2023-02-17  400.0\n",
       "13   2023-02-18  100.0\n",
       "14   2023-02-19  100.0\n",
       "15   2023-02-20  400.0\n",
       "16   2023-02-21  100.0\n",
       "17   2023-02-22  200.0\n",
       "18   2023-02-23  100.0\n",
       "19   2023-02-24  200.0\n",
       "20   2023-02-25  200.0\n",
       "21   2023-02-26  400.0\n",
       "22   2023-02-27  100.0\n",
       "23   2023-02-28  300.0"
      ]
     },
     "execution_count": 60,
     "metadata": {},
     "output_type": "execute_result"
    }
   ],
   "source": [
    "df_us\\\n",
    "    .query('product == \"co.windyapp.2210.pro_sub_year_100_trial7d\" or product == \"co.windyapp.pro_sub_year_60_trial7d\" or product == \"co.windyapp.pro_sub_year_50_trial7d\"')\\\n",
    "    .groupby('install_date', as_index=False)\\\n",
    "    .agg({'price': 'sum'})"
   ]
  },
  {
   "cell_type": "code",
   "execution_count": null,
   "id": "b2d4bf41",
   "metadata": {},
   "outputs": [],
   "source": []
  }
 ],
 "metadata": {
  "kernelspec": {
   "display_name": "Python 3 (ipykernel)",
   "language": "python",
   "name": "python3"
  },
  "language_info": {
   "codemirror_mode": {
    "name": "ipython",
    "version": 3
   },
   "file_extension": ".py",
   "mimetype": "text/x-python",
   "name": "python",
   "nbconvert_exporter": "python",
   "pygments_lexer": "ipython3",
   "version": "3.9.7"
  }
 },
 "nbformat": 4,
 "nbformat_minor": 5
}
